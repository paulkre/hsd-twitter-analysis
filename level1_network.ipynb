{
 "cells": [
  {
   "cell_type": "code",
   "execution_count": 1,
   "metadata": {},
   "outputs": [],
   "source": [
    "import pandas as pd\n",
    "import networkx as nx\n",
    "import random\n",
    "import numpy as np\n",
    "import os\n",
    "import networkx.algorithms.community as nx_comm"
   ]
  },
  {
   "cell_type": "code",
   "execution_count": 2,
   "metadata": {},
   "outputs": [
    {
     "name": "stdout",
     "output_type": "stream",
     "text": [
      "fh_dortmund.csv\n",
      "fh_muenster.csv\n",
      "HochschuleBO.csv\n",
      "hsduesseldorf.csv\n",
      "HSNiederrhein.csv\n",
      "hsrheinwaal.csv\n",
      "RWTH.csv\n",
      "th_koeln.csv\n"
     ]
    }
   ],
   "source": [
    "out_dir = \"data\"\n",
    "in_dir = \"{}/followers\".format(out_dir)\n",
    "dfs = []\n",
    "\n",
    "for dirent in os.listdir(in_dir):\n",
    "    path = os.path.join(in_dir, dirent)\n",
    "\n",
    "    if not os.path.isfile(path) or not dirent.endswith(\".csv\") or \"_lvl2\" in dirent or \"_friends\" in dirent:\n",
    "        continue\n",
    "\n",
    "    print(dirent)\n",
    "    dfs.append(pd.read_csv(path, lineterminator='\\n'))\n",
    "\n",
    "df_hochschul_friends = pd.read_csv(in_dir + \"/hochschulen_friends.csv\")\n",
    "df_hochschul_friends_reverse = df_hochschul_friends.rename(columns={\"id\": \"follower_of\", \"friend_of\": \"id\"})\n",
    "df = pd.concat(dfs)\n",
    "df = pd.concat([df, df_hochschul_friends_reverse])\n",
    "\n",
    "edges = df[[\"id\", \"follower_of\"]].sort_values(\"id\", ascending=True)\n",
    "\n",
    "static_df = pd.read_csv(\"{}/static_users.csv\".format(out_dir))\n",
    "\n",
    "\n",
    "df_hochschul_friends = df_hochschul_friends.rename(columns={\"friend_of\": \"follower_of\"})\n",
    "\n",
    "nodes = pd.concat([\n",
    "    static_df,\n",
    "    df,\n",
    "    df_hochschul_friends,\n",
    "]).drop_duplicates([\"id\"])\n",
    "\n",
    "\n"
   ]
  },
  {
   "cell_type": "code",
   "execution_count": 3,
   "metadata": {},
   "outputs": [
    {
     "name": "stderr",
     "output_type": "stream",
     "text": [
      "C:\\Users\\Lemjoe\\AppData\\Local\\Temp\\ipykernel_4828\\3711750771.py:9: FutureWarning: The default value of regex will change from True to False in a future version.\n",
      "  nodes['name'] =nodes['name'].str.replace(r'\\x08|\\x1f|\\x1e', '')\n",
      "C:\\Users\\Lemjoe\\AppData\\Local\\Temp\\ipykernel_4828\\3711750771.py:10: FutureWarning: The default value of regex will change from True to False in a future version.\n",
      "  nodes['location'] =nodes['location'].str.replace(r'\\x08|\\x1f|\\x1e', '')\n"
     ]
    }
   ],
   "source": [
    "\n",
    "nodes['viz'] = [{'color':{'r':255, 'g':255, 'b':255, 'a':1}}] * len(nodes)\n",
    "nodes['gender'] = [\"unknown\"] * len(nodes)\n",
    "hochschul_ids = [103823788, 84606793, 124155166, 265859722, 2776187059, 928008620, 11053712, 3063800235]\n",
    "\n",
    "nodes = nodes[nodes['id'].notna()]\n",
    "\n",
    "nodes = nodes.drop(columns=['withheld_in_countries','url','follower_of', 'created_at', 'has_extended_profile','default_profile','default_profile_image'])\n",
    "nodes = nodes.astype({'description': 'string', 'screen_name': 'string'})\n",
    "nodes['name'] =nodes['name'].str.replace(r'\\x08|\\x1f|\\x1e', '')\n",
    "nodes['location'] =nodes['location'].str.replace(r'\\x08|\\x1f|\\x1e', '')"
   ]
  },
  {
   "cell_type": "code",
   "execution_count": 4,
   "metadata": {},
   "outputs": [
    {
     "name": "stdout",
     "output_type": "stream",
     "text": [
      "Number of females: 173\n",
      "Number of males: 157\n"
     ]
    }
   ],
   "source": [
    "import re\n",
    "\n",
    "females = []\n",
    "male = []\n",
    "for index, row in nodes.iterrows():\n",
    "    \n",
    "    if pd.notnull(row['description']):\n",
    "        isFemale = re.search(r'\\bshe/her\\b|\\bSie/Ihr\\b', row['description'])\n",
    "        if isFemale != None:\n",
    "            females.append(row['id'])\n",
    "        isMale = re.search(r'\\bhe/him\\b|\\bEr/Ihn\\b', row['description'])\n",
    "        if isMale != None:\n",
    "            male.append(row['id'])\n",
    "\n",
    "print(f\"Number of females: {len(females)}\")\n",
    "print(f\"Number of males: {len(male)}\")"
   ]
  },
  {
   "cell_type": "code",
   "execution_count": 5,
   "metadata": {},
   "outputs": [],
   "source": [
    "nodes.loc[nodes['id'].isin(females),('gender')] = 'female'\n",
    "nodes.loc[nodes['id'].isin(male), ('gender') ]= 'male'\n",
    "\n",
    "nodes = nodes.drop(columns=['description'])"
   ]
  },
  {
   "cell_type": "markdown",
   "metadata": {},
   "source": [
    "# Helper Funktion"
   ]
  },
  {
   "cell_type": "code",
   "execution_count": 6,
   "metadata": {},
   "outputs": [],
   "source": [
    "random.seed(10)\n",
    "\n",
    "def get_random_Color_hex():\n",
    "    return {'r' : random.randint(0,255),'g' : random.randint(0,255), 'b' : random.randint(0,255), 'a':1}\n",
    "\n",
    "def lerp(a, b, t):\n",
    "    return a*(1 - t) + b*t"
   ]
  },
  {
   "cell_type": "code",
   "execution_count": 7,
   "metadata": {},
   "outputs": [],
   "source": [
    "def create_graph(edges, nodes, is_directed):\n",
    "    graph = nx.from_pandas_edgelist(edges, source='id', target='follower_of', create_using= nx.DiGraph() if is_directed else nx.Graph())\n",
    "    node_attr = nodes.set_index('id').to_dict('index')\n",
    "    nx.set_node_attributes(graph, node_attr)\n",
    "    return graph"
   ]
  },
  {
   "cell_type": "code",
   "execution_count": 8,
   "metadata": {},
   "outputs": [],
   "source": [
    "def interpolate_edge_colors(graph):\n",
    "    for edge in graph.edges():\n",
    "        color1 = graph.nodes[edge[0]][\"viz\"]['color']\n",
    "        color2 = graph.nodes[edge[1]][\"viz\"]['color']\n",
    "        color1 = np.array([color1['r'], color1['g'], color1['b']])\n",
    "        color2 = np.array([color2['r'], color2['g'], color2['b']])\n",
    "        edge_color = lerp(np.array(color1), np.array(color2), 0.5)\n",
    "        edge_color = edge_color.astype(int)\n",
    "        update = {edge: {\"viz\":{'color': {'r':edge_color[0], 'g':edge_color[1], 'b':edge_color[2],'a':1}}}}\n",
    "        nx.set_edge_attributes(graph, update)\n",
    "    return graph"
   ]
  },
  {
   "cell_type": "markdown",
   "metadata": {},
   "source": [
    "# Louvain"
   ]
  },
  {
   "cell_type": "code",
   "execution_count": 14,
   "metadata": {},
   "outputs": [],
   "source": [
    "graph = create_graph(edges=edges, nodes = nodes, is_directed=False)"
   ]
  },
  {
   "cell_type": "code",
   "execution_count": 27,
   "metadata": {},
   "outputs": [],
   "source": [
    "communities = nx_comm.louvain_communities(graph, resolution = 2.2, seed=123)"
   ]
  },
  {
   "cell_type": "code",
   "execution_count": 28,
   "metadata": {},
   "outputs": [
    {
     "name": "stdout",
     "output_type": "stream",
     "text": [
      "37\n"
     ]
    }
   ],
   "source": [
    "print(len(communities))"
   ]
  },
  {
   "cell_type": "code",
   "execution_count": 29,
   "metadata": {},
   "outputs": [],
   "source": [
    "for community in communities:\n",
    "    color = get_random_Color_hex()\n",
    "    for id in list(community):\n",
    "        update = {id: {\"viz\": {'color':color}}}\n",
    "        nx.set_node_attributes(graph, update)"
   ]
  },
  {
   "cell_type": "code",
   "execution_count": 30,
   "metadata": {},
   "outputs": [],
   "source": [
    "graph = interpolate_edge_colors(graph)"
   ]
  },
  {
   "cell_type": "code",
   "execution_count": 31,
   "metadata": {},
   "outputs": [],
   "source": [
    "os.makedirs(\"./graphs\", exist_ok=True) \n",
    "nx.write_gexf(graph, path=\"./graphs/level1_louvain_zuteilung.gexf\")"
   ]
  },
  {
   "cell_type": "markdown",
   "metadata": {},
   "source": [
    "# Gerichteten Graph mit Knoten Färbung\n"
   ]
  },
  {
   "cell_type": "code",
   "execution_count": 39,
   "metadata": {},
   "outputs": [],
   "source": [
    "graph2 = create_graph(edges=edges, nodes = nodes, is_directed=True)"
   ]
  },
  {
   "cell_type": "code",
   "execution_count": 40,
   "metadata": {},
   "outputs": [],
   "source": [
    "for community in communities:\n",
    "    color = get_random_Color_hex()\n",
    "    for id in list(community):\n",
    "        update = {id: {\"viz\": {'color':color}}}\n",
    "        nx.set_node_attributes(graph2, update)"
   ]
  },
  {
   "cell_type": "code",
   "execution_count": 41,
   "metadata": {},
   "outputs": [],
   "source": [
    "graph2 = interpolate_edge_colors(graph2)"
   ]
  },
  {
   "cell_type": "code",
   "execution_count": 42,
   "metadata": {},
   "outputs": [],
   "source": [
    "os.makedirs(\"./graphs\", exist_ok=True) \n",
    "nx.write_gexf(graph2, path=\"./graphs/level1_louvain_zuteilung_gerichtet.gexf\")"
   ]
  },
  {
   "cell_type": "markdown",
   "metadata": {},
   "source": [
    "# Vereinfachung"
   ]
  },
  {
   "cell_type": "code",
   "execution_count": 9,
   "metadata": {},
   "outputs": [],
   "source": [
    "graph = nx.from_pandas_edgelist(edges, source='id', target='follower_of', create_using=nx.DiGraph())\n",
    "\n",
    "node_attr = nodes.set_index('id').to_dict('index')\n",
    "nx.set_node_attributes(graph, node_attr)"
   ]
  },
  {
   "cell_type": "code",
   "execution_count": 10,
   "metadata": {},
   "outputs": [
    {
     "name": "stdout",
     "output_type": "stream",
     "text": [
      "40726\n"
     ]
    }
   ],
   "source": [
    "out_degree_nodes = [node for (node, val) in graph.out_degree() if val == 1 and graph.in_degree(node) == 0]\n",
    "edges_one_degree = edges[edges['id'].isin(out_degree_nodes)]\n",
    "edges_one_degree = edges_one_degree.sort_values(\"follower_of\", ascending=True)\n",
    "print(len(out_degree_nodes))\n",
    "master_nodes = edges_one_degree.follower_of.unique()"
   ]
  },
  {
   "cell_type": "code",
   "execution_count": 11,
   "metadata": {},
   "outputs": [],
   "source": [
    "nodes_id_to_unify = []\n",
    "for node in master_nodes:\n",
    "    nodes_id_to_unify.append(edges_one_degree[edges_one_degree['follower_of'] == node]['id'].values.tolist()) \n",
    "nodes['size'] = nodes['followers_count']"
   ]
  },
  {
   "cell_type": "code",
   "execution_count": 12,
   "metadata": {},
   "outputs": [],
   "source": [
    "nodes_copy = nodes.copy(deep=False)\n",
    "edges_copy = edges.copy(deep=False)"
   ]
  },
  {
   "cell_type": "code",
   "execution_count": 13,
   "metadata": {},
   "outputs": [],
   "source": [
    "unified_node_id = -1\n",
    "for list_of_nodes,master_node in zip(nodes_id_to_unify, master_nodes):\n",
    "    \n",
    "    new_node = pd.DataFrame({\n",
    "        'id':unified_node_id,\n",
    "        'id_str':''            ,  \n",
    "        'name':'follower_of_'+str(master_node), \n",
    "        'screen_name': 'follower_of_'+nodes[nodes['id']==master_node]['screen_name'].values[0], \n",
    "        'location':'', \n",
    "        'protected':'False', \n",
    "        'followers_count':0,\n",
    "        'friends_count':0,\n",
    "        'listed_count':0,\n",
    "        'favourites_count':0,\n",
    "        'verified':'False', \n",
    "        'statuses_count':0,\n",
    "        'viz':{'color':nodes[nodes['id']==master_node]['viz'].values[0]}, \n",
    "        'gender':'unknown', \n",
    "        'size': len(list_of_nodes) })\n",
    "    nodes_copy = pd.concat([nodes_copy,new_node], ignore_index=True)\n",
    "    new_edge = pd.DataFrame({\n",
    "        'id':[unified_node_id],\n",
    "        'follower_of': [master_node] })\n",
    "    edges_copy = pd.concat([edges_copy,new_edge], ignore_index=True)\n",
    "    unified_node_id -= 1\n",
    "\n"
   ]
  },
  {
   "cell_type": "code",
   "execution_count": 14,
   "metadata": {},
   "outputs": [],
   "source": [
    "flatten_node_to_remove = [node for list_of_nodes in nodes_id_to_unify for node in list_of_nodes]\n",
    "nodes_copy = nodes_copy[~nodes_copy['id'].isin(flatten_node_to_remove)]\n",
    "edges_copy = edges_copy[~edges_copy['id'].isin(flatten_node_to_remove)]\n",
    "\n",
    "nodes_copy = nodes_copy.astype({'screen_name': 'string', 'id_str': 'string'})"
   ]
  },
  {
   "cell_type": "code",
   "execution_count": 15,
   "metadata": {},
   "outputs": [
    {
     "name": "stdout",
     "output_type": "stream",
     "text": [
      "45319\n",
      "51926\n",
      "4601\n",
      "11193\n"
     ]
    }
   ],
   "source": [
    "print(len(nodes))\n",
    "print(len(edges))\n",
    "print(len(nodes_copy))\n",
    "print(len(edges_copy))"
   ]
  },
  {
   "cell_type": "code",
   "execution_count": 29,
   "metadata": {},
   "outputs": [],
   "source": [
    "graph = create_graph(edges=edges_copy, nodes = nodes_copy, is_directed=False)"
   ]
  },
  {
   "cell_type": "code",
   "execution_count": 30,
   "metadata": {},
   "outputs": [],
   "source": [
    "communities = nx_comm.louvain_communities(graph, resolution = 1.7, seed=123)"
   ]
  },
  {
   "cell_type": "code",
   "execution_count": 31,
   "metadata": {},
   "outputs": [
    {
     "name": "stdout",
     "output_type": "stream",
     "text": [
      "29\n"
     ]
    }
   ],
   "source": [
    "print(len(communities))"
   ]
  },
  {
   "cell_type": "code",
   "execution_count": 32,
   "metadata": {},
   "outputs": [],
   "source": [
    "for community in communities:\n",
    "    color = get_random_Color_hex()\n",
    "    for id in list(community):\n",
    "        update = {id: {\"viz\": {'color':color}}}\n",
    "        nx.set_node_attributes(graph, update)"
   ]
  },
  {
   "cell_type": "code",
   "execution_count": 33,
   "metadata": {},
   "outputs": [],
   "source": [
    "graph2 = create_graph(edges=edges_copy, nodes = nodes_copy, is_directed=True)\n",
    "for community in communities:\n",
    "    color = get_random_Color_hex()\n",
    "    for id in list(community):\n",
    "        update = {id: {\"viz\": {'color':color}}}\n",
    "        nx.set_node_attributes(graph2, update)\n",
    "graph2 = interpolate_edge_colors(graph2)\n",
    "os.makedirs(\"./graphs\", exist_ok=True) \n",
    "nx.write_gexf(graph2, path=\"./graphs/level1_louvain_zuteilung_gerichtet_vereinfacht.gexf\")"
   ]
  },
  {
   "cell_type": "code",
   "execution_count": null,
   "metadata": {},
   "outputs": [],
   "source": []
  }
 ],
 "metadata": {
  "kernelspec": {
   "display_name": "Python 3.9.12 ('twitter')",
   "language": "python",
   "name": "python3"
  },
  "language_info": {
   "codemirror_mode": {
    "name": "ipython",
    "version": 3
   },
   "file_extension": ".py",
   "mimetype": "text/x-python",
   "name": "python",
   "nbconvert_exporter": "python",
   "pygments_lexer": "ipython3",
   "version": "3.9.12"
  },
  "orig_nbformat": 4,
  "vscode": {
   "interpreter": {
    "hash": "43ea0a0cfa78f4790626d6043f27b7a837fc06300736f5f3feda3137e1e7a9d5"
   }
  }
 },
 "nbformat": 4,
 "nbformat_minor": 2
}
