{
 "cells": [
  {
   "cell_type": "markdown",
   "id": "c04ba924",
   "metadata": {},
   "source": [
    "# Centrality analysis"
   ]
  },
  {
   "cell_type": "code",
   "execution_count": null,
   "id": "5608c5cc",
   "metadata": {},
   "outputs": [],
   "source": [
    "import pandas as pd\n",
    "import numpy as np\n",
    "import networkx as nx\n",
    "import analysis_helper_functions as ahf\n",
    "from operator import itemgetter\n",
    "pd.set_option('display.max_columns', None)"
   ]
  },
  {
   "cell_type": "markdown",
   "id": "f77ddceb",
   "metadata": {},
   "source": [
    "## Get centralities"
   ]
  },
  {
   "cell_type": "code",
   "execution_count": null,
   "id": "935b581f",
   "metadata": {},
   "outputs": [],
   "source": [
    "#G = nx.read_graphml(\"./level1.graphml\")\n",
    "#analysis = ahf.create_centralities(G)\n",
    "#analysis.to_csv('level1_analysis.csv', index=False)"
   ]
  },
  {
   "cell_type": "markdown",
   "id": "d1bf4ad9",
   "metadata": {},
   "source": [
    "## Load data"
   ]
  },
  {
   "cell_type": "code",
   "execution_count": null,
   "id": "56490d3c",
   "metadata": {
    "scrolled": false
   },
   "outputs": [],
   "source": [
    "analysis = pd.read_csv(\"../data/follower_analysis.csv\")\n",
    "\n",
    "users = pd.read_csv(\"../data/users_with_friends.csv\")\n",
    "static_user = pd.read_csv(\"../data/static_users.csv\")\n",
    "users = pd.concat([users, static_user])\n",
    "users = users.drop_duplicates(['id']).astype({'id_str': str})\n",
    "\n",
    "followings = pd.read_csv(\"../data/followings_with_friends.csv\")\n",
    "followings.drop_duplicates(inplace=True)\n",
    "\n",
    "hs_ids = list(static_user['id'])"
   ]
  },
  {
   "cell_type": "code",
   "execution_count": null,
   "id": "fe7401de",
   "metadata": {},
   "outputs": [],
   "source": [
    "analysis = analysis.astype({'id': np.int64})\n",
    "user_cols = ['id', 'followers_count', 'friends_count']\n",
    "analysis_cols = ['id', 'name', 'degree', 'out_degree', 'in_degree', 'betweenness_centrality', 'closeness_centrality', 'eigenvector_centrality']\n",
    "\n",
    "user_analysis = analysis[analysis_cols].merge(users[user_cols], on='id', how='left')\n",
    "user_analysis.drop_duplicates('id', inplace=True)"
   ]
  },
  {
   "cell_type": "markdown",
   "id": "8230174e",
   "metadata": {},
   "source": [
    "### User data"
   ]
  },
  {
   "cell_type": "markdown",
   "id": "2b286c7b",
   "metadata": {},
   "source": [
    "* HSD Account ist der jüngste Account (2015) und der Account der TH Köln ist der älteste (2007)\n",
    "* Die 3 größten Accounts sind verifiziert (RWTH Aachen, TH Köln und FH Münster)"
   ]
  },
  {
   "cell_type": "code",
   "execution_count": null,
   "id": "61a04e1d",
   "metadata": {
    "scrolled": true
   },
   "outputs": [],
   "source": [
    "users[users['id'].isin(hs_ids)]\n",
    "hochschulen = list(users[users['id'].isin(hs_ids)]['name'])"
   ]
  },
  {
   "cell_type": "code",
   "execution_count": null,
   "id": "af808976",
   "metadata": {
    "scrolled": false
   },
   "outputs": [],
   "source": [
    "follower_count = list(users[users['id'].isin(hs_ids)]['followers_count'])\n",
    "ahf.create_bar_plot_for_hs(hochschulen, follower_count, \"Anzahl der Follower\", \"Vergleich der Anzahl der Follower der Hochschulen\", 0.2)"
   ]
  },
  {
   "cell_type": "markdown",
   "id": "bdc69a59",
   "metadata": {},
   "source": [
    "Im Vergleich zu der Anzahl der Follower hat die FH Münster verhältnismäßig viele Tweets (inkl. Retweets) veröffentlicht"
   ]
  },
  {
   "cell_type": "code",
   "execution_count": null,
   "id": "3f118d57",
   "metadata": {},
   "outputs": [],
   "source": [
    "statuses_count = list(users[users['id'].isin(hs_ids)]['statuses_count'])\n",
    "ahf.create_bar_plot_for_hs(hochschulen, statuses_count, \"Anzahl der Tweets (inkl. Retweets)\", \"Vergleich der Anzahl der Tweets der Hochschulen\", 0.2)"
   ]
  },
  {
   "cell_type": "code",
   "execution_count": null,
   "id": "bced79a0",
   "metadata": {},
   "outputs": [],
   "source": [
    "listed_count = list(users[users['id'].isin(hs_ids)]['listed_count'])\n",
    "ahf.create_bar_plot_for_hs(hochschulen, listed_count, \"Anzahl der öffentlichen Listen\", \"Vergleich der Anzahl der öffentlichen Listen in denen die einzelnen Hochschulen Mitglieder sind\", 0.13)"
   ]
  },
  {
   "cell_type": "code",
   "execution_count": null,
   "id": "b3d35b39",
   "metadata": {},
   "outputs": [],
   "source": [
    "follower_count = list(users[users['id'].isin(hs_ids)]['friends_count'])\n",
    "ahf.create_bar_plot_for_hs(hochschulen, follower_count, \"Anzahl der Friends\", \"Vergleich der Anzahl der Friends der Hochschulen\", 0.15)"
   ]
  },
  {
   "cell_type": "markdown",
   "id": "2bc02c3e",
   "metadata": {},
   "source": [
    "## Welchen HS folgen die einzelnen HS?"
   ]
  },
  {
   "cell_type": "markdown",
   "id": "cea3b950",
   "metadata": {},
   "source": [
    "<center>\n",
    "    <img src=\"./img/hochschulen_follower_vergleich.jpg\" width=800px>\n",
    "</center>"
   ]
  },
  {
   "cell_type": "markdown",
   "id": "b636cd6e",
   "metadata": {},
   "source": [
    "### Followings der HSD"
   ]
  },
  {
   "cell_type": "code",
   "execution_count": null,
   "id": "62571d1f",
   "metadata": {},
   "outputs": [],
   "source": [
    "ahf.get_followed_hs_by_user(followings, users, 3063800235, hs_ids)"
   ]
  },
  {
   "cell_type": "markdown",
   "id": "4dea170e",
   "metadata": {},
   "source": [
    "# Degree Centrality"
   ]
  },
  {
   "cell_type": "markdown",
   "id": "f995ef63",
   "metadata": {},
   "source": [
    "## Out Degree"
   ]
  },
  {
   "cell_type": "markdown",
   "id": "aecdd631",
   "metadata": {},
   "source": [
    "-> Insgesamt gibt es 32 User mit dem out degree 8 -> Diese User folgen allen betrachteten Hochschulen\n",
    "\n",
    "**Aufteilung der User in Kategorien**\n",
    "1. Personen\n",
    "    - Uwe Kleinkes (Professor for Technology Marketing at Hochschule Hamm-Lippstadt)\n",
    "    - steffiflei (Erasmus+)\n",
    "    - Svenja Schulze (Bundesministerin für wirtschaftliche Zusammenarbeit und Entwicklung)\n",
    "    - Elmar Bigler\n",
    "    - Brigitte Wende\n",
    "2. Studieninformationsprotale\n",
    "    - studieren.de\n",
    "    - Hochschulmarketing\n",
    "    - Study In Germany\n",
    "3. Nicht betrachtete Universitäten, Hochschulen\n",
    "    - Universität Konstanz\n",
    "    - Bergische Universität Wuppertal\t\n",
    "    - TH Georg Agricola (nur Research Management)\n",
    "    - Hochschule Neu-Ulm\n",
    "4. Produkte/ Dienste für Hochschulen\n",
    "    - open-access.network\n",
    "    - UniNow\n",
    "    - alumni-clubs.net\n",
    "    - PROvendis GmbH + Susanne Salwiczek\n",
    "    - Studentischer Akkreditierungspool\n",
    "    - StudySmarter\n",
    "5. Presse\n",
    "    - Hochschulspiegel\n",
    "    - Daily Research @SurveyCircle \n",
    "6. sonstige Unternehmen/ Institute\n",
    "    - ILS\n",
    "    - VDI Technologiezentrum GmbH\t\n",
    "    - SPECTRUM AG\n",
    "    - Zentrum für Wissenschaftsmanagement e.V. Speyer\n",
    "    - open-access.network\n",
    "7. NRW Institutionen\n",
    "    - zdi.NRW\n",
    "    - Netzwerk Frauen- und Geschlechterforschung NRW\n",
    "    - EFRE.NRW\n",
    "    - MKW_NRW\n",
    "    - GI NRW Life Sciences\n",
    "    - PK NRW Medien und Interaktion\n",
    "    - Aufstiegsstipendium (Landesebene)"
   ]
  },
  {
   "cell_type": "code",
   "execution_count": null,
   "id": "249b71b7",
   "metadata": {},
   "outputs": [],
   "source": [
    "out_degree_df = user_analysis.sort_values('out_degree', ascending=False).reset_index(drop=True)[:1000]\n",
    "out_degree_df = ahf.create_degree_df(out_degree_df, followings)"
   ]
  },
  {
   "cell_type": "code",
   "execution_count": null,
   "id": "d257271f",
   "metadata": {},
   "outputs": [],
   "source": [
    "out_degree_df.head(50)"
   ]
  },
  {
   "cell_type": "markdown",
   "id": "2b8f9139",
   "metadata": {},
   "source": [
    "45 Nutzer folgen 7 Hochschulen, davon folgen:\n",
    "* 5 Nutzer nicht der HSD\n",
    "* 7 Nutzer nicht der RWTH\n",
    "* 1 Nutzer nicht der TH Köln\n",
    "* 3 Nutzer nicht der FH Münster\n",
    "* 1 Nutzer nicht der HS Rhein-Waal\n",
    "* 8 Nutzer nicht der HS Niederrhein\n",
    "* 18 Nutzer nicht der FH Dortmund\n",
    "* 2 Nutzer nicht der HS Bochum"
   ]
  },
  {
   "cell_type": "code",
   "execution_count": null,
   "id": "61bc45f6",
   "metadata": {},
   "outputs": [],
   "source": [
    "out_degree_copy = out_degree_df.copy()\n",
    "ahf.create_follower_friend_cols(out_degree_copy, followings, hs_ids)\n",
    "out_degree_copy[(out_degree_copy['out_degree'] == 7) & (out_degree_copy['follower_of_hsd'] == False)]"
   ]
  },
  {
   "cell_type": "code",
   "execution_count": null,
   "id": "fe15586c",
   "metadata": {
    "scrolled": true
   },
   "outputs": [],
   "source": [
    "out_degree_df[out_degree_df['id'].isin(hs_ids)]"
   ]
  },
  {
   "cell_type": "markdown",
   "id": "dd54c47f",
   "metadata": {},
   "source": [
    "## In Degree"
   ]
  },
  {
   "cell_type": "markdown",
   "id": "bd8c5309",
   "metadata": {},
   "source": [
    "Zwei Intutitionen werden von allen Hochschulen gefolgt:\n",
    "- MKW_NRW \n",
    "- Ruhr-Universität Bochum"
   ]
  },
  {
   "cell_type": "code",
   "execution_count": null,
   "id": "b158d6c3",
   "metadata": {},
   "outputs": [],
   "source": [
    "in_degree_df = user_analysis.sort_values('in_degree', ascending=False).reset_index(drop=True)[8:20]\n",
    "in_degree_df = ahf.create_degree_df(in_degree_df, followings)"
   ]
  },
  {
   "cell_type": "code",
   "execution_count": null,
   "id": "f6204253",
   "metadata": {
    "scrolled": false
   },
   "outputs": [],
   "source": [
    "in_degree_df"
   ]
  },
  {
   "cell_type": "markdown",
   "id": "a5d96a8d",
   "metadata": {},
   "source": [
    "## Degree"
   ]
  },
  {
   "cell_type": "code",
   "execution_count": null,
   "id": "6ce2de48",
   "metadata": {},
   "outputs": [],
   "source": [
    "degree_df = user_analysis.sort_values('degree', ascending=False).reset_index(drop=True)[8:15]\n",
    "degree_df = ahf.create_degree_df(degree_df, followings)"
   ]
  },
  {
   "cell_type": "code",
   "execution_count": null,
   "id": "6b3f79b7",
   "metadata": {},
   "outputs": [],
   "source": [
    "degree_df"
   ]
  },
  {
   "cell_type": "markdown",
   "id": "9cd711ae",
   "metadata": {},
   "source": [
    "# Closeness centrality"
   ]
  },
  {
   "cell_type": "markdown",
   "id": "25c7d243",
   "metadata": {},
   "source": [
    "* Schätzt, wie schnell der Informationsfluss durch einen bestimmten Knoten zu anderen Knoten ist.\n",
    "\n",
    "- Welche Punkte sind am dichtesten an allen anderen Punkten dran\n",
    "\n",
    "-> Welches sind die zentralsten Nutzer?\n",
    "\n"
   ]
  },
  {
   "cell_type": "code",
   "execution_count": null,
   "id": "6ede0048",
   "metadata": {
    "scrolled": false
   },
   "outputs": [],
   "source": [
    "closeness_sorted = user_analysis.sort_values('closeness_centrality', ascending=False).reset_index(drop=True)\n",
    "closeness_sorted.head(10)"
   ]
  },
  {
   "cell_type": "markdown",
   "id": "aff57035",
   "metadata": {},
   "source": [
    "### Die Hochschulen im Vergleich:"
   ]
  },
  {
   "cell_type": "code",
   "execution_count": null,
   "id": "f0fb6629",
   "metadata": {},
   "outputs": [],
   "source": [
    "hs_closeness_sorted = closeness_sorted[closeness_sorted['id'].isin(hs_ids)]\n",
    "hs_closeness_sorted = hs_closeness_sorted[['id', 'closeness_centrality', 'name', 'followers_count', 'friends_count']]\n",
    "ahf.create_additional_info_cols(hs_closeness_sorted, followings, hs_ids)"
   ]
  },
  {
   "cell_type": "code",
   "execution_count": null,
   "id": "d46e5927",
   "metadata": {},
   "outputs": [],
   "source": [
    "hs_closeness_sorted"
   ]
  },
  {
   "cell_type": "markdown",
   "id": "15acf4e3",
   "metadata": {},
   "source": [
    "### Welche User sind am dichtesten an allen anderen Usern dran?"
   ]
  },
  {
   "cell_type": "code",
   "execution_count": null,
   "id": "a6ddcc39",
   "metadata": {
    "scrolled": true
   },
   "outputs": [],
   "source": [
    "extract_closeness_sorted = closeness_sorted.iloc[:1000].copy()\n",
    "extract_closeness_sorted = extract_closeness_sorted[['id', 'closeness_centrality', 'name', 'followers_count', 'friends_count']]\n",
    "ahf.create_additional_info_cols(extract_closeness_sorted, followings, hs_ids)"
   ]
  },
  {
   "cell_type": "code",
   "execution_count": null,
   "id": "1268d5a2",
   "metadata": {
    "scrolled": true
   },
   "outputs": [],
   "source": [
    "extract_closeness_sorted.head()"
   ]
  },
  {
   "cell_type": "markdown",
   "id": "4cd1f883",
   "metadata": {},
   "source": [
    "* Die Closeness Centrality wird durch die RWTH Aachen dominiert. Alle User, denen die RWTH folgt haben eine hohe Closeness Centrality, vermutlich aufgrund der hohen Follower Anzahl der RWTH. \n",
    "* Die anderen Hochschulen befinden sich dazwischen. Bis zum Platz 425 folgt die RWTH allen Usern, außer den einzelnen Hochschulen.\n",
    "* Friends der RWTH (417) + Anzahl der betrachteten Hochschulen (8) = 425"
   ]
  },
  {
   "cell_type": "code",
   "execution_count": null,
   "id": "6075d5f3",
   "metadata": {},
   "outputs": [],
   "source": [
    "extract_closeness_sorted_copy = extract_closeness_sorted.copy()\n",
    "ahf.create_follower_friend_cols(extract_closeness_sorted_copy, followings, hs_ids)"
   ]
  },
  {
   "cell_type": "code",
   "execution_count": null,
   "id": "6ba4c6fe",
   "metadata": {
    "scrolled": false
   },
   "outputs": [],
   "source": [
    "extract_closeness_sorted_copy.iloc[:426][extract_closeness_sorted_copy['friend_of_rwth'] == False]"
   ]
  },
  {
   "cell_type": "markdown",
   "id": "0237e154",
   "metadata": {},
   "source": [
    "Die HSD ist im Ranking der Hochschulen auf Platz 5 und somit vor anderen Hochschulen mit mehr Followern.\n",
    "Vermutung: Die HSD folgt vielen Usern, denen die RWTH auch folgt. Diese haben alle eine hohe Centrality.\n",
    "Allerdings:\n",
    "* HS Bochum ist auf Platz 4 und folgt keinem Usern, denen die RWTH Aachen auch folgt.\n",
    "* HS Rhein-Waal ist auf Platz 6 und folgt mehr Usern, denen die RWTH Aachen folgt.\n",
    "\n",
    "Eventuell Sortierungskriterien:\n",
    "1. Followeranzahl\n",
    "2. Anzahl der Hochschulen die folgen\n",
    "3. Anzahl der Hochschulen die gefolgt werden\n",
    "\n",
    "-> Anzahl der Hochschulen als Follower passt, bis auf RWTH Aachen und TH Köln. Diese fallen aus dem Raster, haben allerdings auch sehr viel mehr Follower als die anderen Hochschulen"
   ]
  },
  {
   "cell_type": "code",
   "execution_count": null,
   "id": "c9e3c59e",
   "metadata": {
    "scrolled": true
   },
   "outputs": [],
   "source": [
    "values = list(extract_closeness_sorted_copy[extract_closeness_sorted_copy['friend_of_rwth'] == True].loc[:426, ['follower_of_hsd', 'follower_of_rhein_waal', 'follower_of_niederrhein', 'follower_of_bochum', 'follower_of_koeln', 'follower_of_dortmund', 'follower_of_muenster', 'follower_of_rwth']].sum())\n",
    "ahf.create_bar_plot_for_hs(hochschulen, values, 'Anzahl der Follower', 'Anzahl der Follower der Hochschulen bis Platz 425 der Closeness Centrality', 0.1)"
   ]
  },
  {
   "cell_type": "code",
   "execution_count": null,
   "id": "61de74bc",
   "metadata": {},
   "outputs": [],
   "source": [
    "values = list(extract_closeness_sorted_copy[extract_closeness_sorted_copy['friend_of_rwth'] == True].loc[:426, ['friend_of_hsd', 'friend_of_rhein_waal', 'friend_of_niederrhein', 'friend_of_bochum', 'friend_of_koeln', 'friend_of_dortmund', 'friend_of_muenster', 'friend_of_rwth']].sum())\n",
    "ahf.create_bar_plot_for_hs(hochschulen, values, 'Anzahl der Friends', 'Anzahl der Friends der Hochschulen bis Platz 425 der Closeness Centrality',0.1)"
   ]
  },
  {
   "cell_type": "markdown",
   "id": "ed603d2f",
   "metadata": {},
   "source": [
    "# Betweenness centrality"
   ]
  },
  {
   "cell_type": "markdown",
   "id": "2d831849",
   "metadata": {},
   "source": [
    "* Der Wert misst, wie oft ein Knoten im kürzesten Pfad zwischen zwei Knoten liegt.\n",
    "* Knoten mit einer hohen Betweeness centrality sind interessant, weil sie auf den Kommunikationspfaden liegen und den Informatiosnfluss kontrollieren können. Würden diese Knoten wegbrechen, würde das Netzwerk dadurch stark beeinflusst werden.\n",
    "\n",
    "-> Kann genutzt werden, um nur die wichtigsten Knoten des Netzwerkes auszuwählen\n",
    "\n",
    "Viele Verbindungen die andere nicht haben -> User sind Innovatoren und Vermittler in dem Netzwerk"
   ]
  },
  {
   "cell_type": "code",
   "execution_count": null,
   "id": "f3bdfd6e",
   "metadata": {},
   "outputs": [],
   "source": [
    "betweenness_sorted = user_analysis.sort_values('betweenness_centrality', ascending=False).reset_index(drop=True)\n",
    "betweenness_sorted.head(10)"
   ]
  },
  {
   "cell_type": "markdown",
   "id": "8dacba53",
   "metadata": {},
   "source": [
    "### Die Hochschulen im Vergleich:"
   ]
  },
  {
   "cell_type": "code",
   "execution_count": null,
   "id": "7ede168e",
   "metadata": {},
   "outputs": [],
   "source": [
    "hs_betweenness_sorted = betweenness_sorted[betweenness_sorted['id'].isin(hs_ids)]\n",
    "hs_betweenness_sorted = hs_betweenness_sorted[['id', 'betweenness_centrality', 'name', 'followers_count', 'friends_count']]\n",
    "ahf.create_additional_info_cols(hs_betweenness_sorted, followings, hs_ids)"
   ]
  },
  {
   "cell_type": "code",
   "execution_count": null,
   "id": "befc9df1",
   "metadata": {},
   "outputs": [],
   "source": [
    "hs_betweenness_sorted"
   ]
  },
  {
   "cell_type": "markdown",
   "id": "2bc97d11",
   "metadata": {},
   "source": [
    "* Die betrachteten Hochschulen befinden sich alle auf den ersten Plätzen des Rankings.\n",
    "* Die HSD steht auf Platz 3 obwohl sie die wenigsten Follower hat\n"
   ]
  },
  {
   "cell_type": "markdown",
   "id": "ba7701e9",
   "metadata": {},
   "source": [
    "**HSD vs. FH Münster**\n",
    "* FH Münster hat ca. 4.500 Follower mehr\n",
    "* FH Münster folgt 2 Hochschulen mit insgesamt ca. 14.000 Followern\n",
    "* HSD folt 7 Hochschulen mit insgesamt ca. 47.000 Followern"
   ]
  },
  {
   "cell_type": "code",
   "execution_count": null,
   "id": "cc2c9526",
   "metadata": {},
   "outputs": [],
   "source": [
    "print('FH Münster:')\n",
    "print('Follower (insgesamt) der gefolgten Hochschulen: ' + str(ahf.get_followed_hs_by_user(followings, users, 84606793, hs_ids)['followers_count'].sum()))\n",
    "\n",
    "print('HSD:')\n",
    "print('Follower (insgesamt) der gefolgten Hochschulen: ' + str(ahf.get_followed_hs_by_user(followings, users, 3063800235, hs_ids)['followers_count'].sum()))"
   ]
  },
  {
   "cell_type": "code",
   "execution_count": null,
   "id": "061a5bc9",
   "metadata": {},
   "outputs": [],
   "source": [
    "print('HS Rhein-Waal:')\n",
    "print('Follower (insgesamt) der gefolgten Hochschulen: ' + str(ahf.get_followed_hs_by_user(followings, users, 265859722, hs_ids)['followers_count'].sum()))\n",
    "\n",
    "print('HSD:')\n",
    "print('Follower (insgesamt) der gefolgten Hochschulen: ' + str(ahf.get_followed_hs_by_user(followings, users, 3063800235, hs_ids)['followers_count'].sum()))"
   ]
  },
  {
   "cell_type": "markdown",
   "id": "1aa4e898",
   "metadata": {},
   "source": [
    "### Welche User sind am wichtigsten?"
   ]
  },
  {
   "cell_type": "code",
   "execution_count": null,
   "id": "6230a358",
   "metadata": {},
   "outputs": [],
   "source": [
    "extract_betweenness_sorted = betweenness_sorted.iloc[:500].copy()\n",
    "extract_betweenness_sorted = extract_betweenness_sorted[['id', 'betweenness_centrality', 'name', 'followers_count', 'friends_count']]\n",
    "ahf.create_additional_info_cols(extract_betweenness_sorted, followings, hs_ids)\n",
    "\n",
    "extract_betweenness_sorted_copy = extract_betweenness_sorted.copy()\n",
    "ahf.create_follower_friend_cols(extract_betweenness_sorted_copy, followings, hs_ids)"
   ]
  },
  {
   "cell_type": "markdown",
   "id": "b1c63fd8",
   "metadata": {},
   "source": [
    "Die Betweeness Centrality wird nicht so stark von der RWTH Aachen dominiert. Bis zum Platz 425 folgt die RWTH Aachen nur ca. 88 Usern.\n",
    "\n",
    "Die HSD steht auf Platz 3 obwohl sie die wenigsten Follower hat. \n",
    "Mögliche Erklärung:\n",
    "* Die HSD folgt vielen Usern, die eine hohe Betweenness Centrality haben. Sie folgt nach der RWTH Aachen, der TH Köln und der Hochschule Rhein-Waal am meisten Usern mit einer hohen Betweenness Centrality. Diese vier Hochschulen befinden sich auch auf den ersten vier Plätzen nach der Betweenness Centrality. \n",
    "* HSD ist auf Platz 3 und HS Rhein-Waal auf Platz 4, obwohl die HS Rhein-Waal mehr Follower hat und mehr Usern folgt die eine hohe Betweenness Centrality haben. Bedeutender Unterschied: die HSD folgt der TH Köln. Diese steht auf Platz 2 des Rankings nach der Betweenness Centrality. Die HS Rhein-Waal folgt dieser nicht."
   ]
  },
  {
   "cell_type": "code",
   "execution_count": null,
   "id": "a9012d5c",
   "metadata": {
    "scrolled": false
   },
   "outputs": [],
   "source": [
    "values = list(extract_betweenness_sorted_copy[extract_betweenness_sorted_copy['friend_of_rwth'] == True].loc[:426, ['follower_of_hsd', 'follower_of_rhein_waal', 'follower_of_niederrhein', 'follower_of_bochum', 'follower_of_koeln', 'follower_of_dortmund', 'follower_of_muenster', 'follower_of_rwth']].sum())\n",
    "ahf.create_bar_plot_for_hs(hochschulen, values, 'Anzahl der Follower', 'Anzahl der Follower der Hochschulen bis Platz 425 der Betweenness Centrality', 0.1)"
   ]
  },
  {
   "cell_type": "code",
   "execution_count": null,
   "id": "ead0ddc8",
   "metadata": {},
   "outputs": [],
   "source": [
    "values = list(extract_betweenness_sorted_copy[extract_betweenness_sorted_copy['friend_of_rwth'] == True].loc[:426, ['friend_of_hsd', 'friend_of_rhein_waal', 'friend_of_niederrhein', 'friend_of_bochum', 'friend_of_koeln', 'friend_of_dortmund', 'friend_of_muenster', 'friend_of_rwth']].sum())\n",
    "ahf.create_bar_plot_for_hs(hochschulen, values, 'Anzahl der Friends', 'Anzahl der Friends der Hochschulen bis Platz 425 der Betweenness Centrality', 0.1)"
   ]
  },
  {
   "cell_type": "markdown",
   "id": "f71591cd",
   "metadata": {},
   "source": [
    "## Überschneidungen der Follower"
   ]
  },
  {
   "cell_type": "code",
   "execution_count": null,
   "id": "eb82133a",
   "metadata": {},
   "outputs": [],
   "source": [
    "hsd_follower = followings[followings['follower_of'] == 3063800235]['id']\n",
    "rwth_follower = followings[followings['follower_of'] == 928008620]['id']\n",
    "koeln_follower = followings[followings['follower_of'] == 11053712]['id']\n",
    "muenster_follower = followings[followings['follower_of'] == 84606793]['id']\n",
    "bochum_follower = followings[followings['follower_of'] == 124155166]['id']\n",
    "rhein_waal_follower = followings[followings['follower_of'] == 265859722]['id']\n",
    "niederrhein_follower = followings[followings['follower_of'] == 2776187059]['id']\n",
    "dortmund_follower = followings[followings['follower_of'] == 103823788]['id']"
   ]
  },
  {
   "cell_type": "code",
   "execution_count": null,
   "id": "38a68e85",
   "metadata": {},
   "outputs": [],
   "source": [
    "hs_follower = {\"HSD\": hsd_follower, \n",
    "               \"RWTH Aachen\": rwth_follower,\n",
    "               \"TH Koeln\": koeln_follower,\n",
    "               \"FH Muenster\": muenster_follower,\n",
    "               \"HS Bochum\": bochum_follower,\n",
    "               \"HS Rhein Waal\": rhein_waal_follower,\n",
    "               \"HS Niederrhein\": niederrhein_follower,\n",
    "               \"FH Dortmund\": dortmund_follower\n",
    "}"
   ]
  },
  {
   "cell_type": "code",
   "execution_count": null,
   "id": "f8bb6cd7",
   "metadata": {},
   "outputs": [],
   "source": [
    "ahf.create_hs_heat_map(hs_follower, \"Prozentuale Übereinstimmung der Follower der Hochschulen\")"
   ]
  },
  {
   "cell_type": "markdown",
   "id": "919d38b1",
   "metadata": {},
   "source": [
    "* Vermutung: HSD hat eine hohe Betweeness Centrality, da sie viele Verbindungen hat, die andere nicht haben. Die FH Münster hat zwar viel mehr Follower, aber große Überschneidungen mit anderen Hochschulen, insbesondere RWTH Aachen und TH Köln.\n",
    "\n",
    "-> Prozentual gesehen hat die HSD sehr viele Überschneidungen mit anderen Hochschulen. Sie hat lediglich ca. 19% Follower, die keiner anderen Hochschule folgen. Alle anderen Hochschulen stehen besser da, außer die HS Bochum."
   ]
  },
  {
   "cell_type": "markdown",
   "id": "c9df3dae",
   "metadata": {},
   "source": [
    "**Anzahl der gemeinsamen Follower mit anderen Hochschulen (Prozentualer Anteil der gemeinsamen Follower)**"
   ]
  },
  {
   "cell_type": "code",
   "execution_count": null,
   "id": "625be8e3",
   "metadata": {},
   "outputs": [],
   "source": [
    "follower_counts = [1743, 21866, 12431, 5256, 1859, 2282, 1864, 1898]\n",
    "follower_overlap_percentages = ahf.get_overlap_percentages(follower_counts, hs_follower)"
   ]
  },
  {
   "cell_type": "code",
   "execution_count": null,
   "id": "350cac65",
   "metadata": {},
   "outputs": [],
   "source": [
    "ahf.create_bar_plot_for_hs(hs_follower.keys(), follower_overlap_percentages, 'Anzahl der gemeinsamen Follower (Prozent)', 'Anzahl der gemeinsamen Follower mit anderen Hochschulen', 0.1)"
   ]
  },
  {
   "cell_type": "markdown",
   "id": "e0748e67",
   "metadata": {},
   "source": [
    "## Überschneidung der Followings"
   ]
  },
  {
   "cell_type": "code",
   "execution_count": null,
   "id": "e578eb4b",
   "metadata": {},
   "outputs": [],
   "source": [
    "hsd_followings = followings[followings['id'] == 3063800235]['follower_of']\n",
    "rwth_followings = followings[followings['id'] == 928008620]['follower_of']\n",
    "koeln_followings = followings[followings['id'] == 11053712]['follower_of']\n",
    "muenster_followings = followings[followings['id'] == 84606793]['follower_of']\n",
    "bochum_followings = followings[followings['id'] == 124155166]['follower_of']\n",
    "rhein_waal_followings = followings[followings['id'] == 265859722]['follower_of']\n",
    "niederrhein_followings = followings[followings['id'] == 2776187059]['follower_of']\n",
    "dortmund_followings = followings[followings['id'] == 103823788]['follower_of']"
   ]
  },
  {
   "cell_type": "code",
   "execution_count": null,
   "id": "6e08856a",
   "metadata": {},
   "outputs": [],
   "source": [
    "hs_followings = {\"HSD\": hsd_followings, \n",
    "               \"RWTH Aachen\": rwth_followings,\n",
    "               \"TH Koeln\": koeln_followings,\n",
    "               \"FH Muenster\": muenster_followings,\n",
    "               \"HS Bochum\": bochum_followings,\n",
    "               \"HS Rhein Waal\": rhein_waal_followings,\n",
    "               \"HS Niederrhein\": niederrhein_followings,\n",
    "               \"FH Dortmund\": dortmund_followings\n",
    "}"
   ]
  },
  {
   "cell_type": "code",
   "execution_count": null,
   "id": "ecc71856",
   "metadata": {},
   "outputs": [],
   "source": [
    "ahf.create_hs_heat_map(hs_followings, \"Prozentuale Übereinstimmung der Followings der Hochschulen\")"
   ]
  },
  {
   "cell_type": "markdown",
   "id": "0115b5cf",
   "metadata": {},
   "source": [
    "**Anzahl der gemeinsamen Followings mit anderen Hochschulen (Prozentualer Anteil der gemeinsamen Followings)**"
   ]
  },
  {
   "cell_type": "code",
   "execution_count": null,
   "id": "0a970bcf",
   "metadata": {
    "scrolled": true
   },
   "outputs": [],
   "source": [
    "followings_counts = [704, 417, 564, 269, 356, 543, 233, 70]\n",
    "followings_overlap_percentages = ahf.get_overlap_percentages(followings_counts, hs_followings)"
   ]
  },
  {
   "cell_type": "code",
   "execution_count": null,
   "id": "8d87c110",
   "metadata": {},
   "outputs": [],
   "source": [
    "ahf.create_bar_plot_for_hs(hs_followings.keys(), followings_overlap_percentages, 'Anzahl der gemeinsamen Followings (Prozent)', 'Anzahl der gemeinsamen Followings mit anderen Hochschulen', 0.1)"
   ]
  },
  {
   "cell_type": "markdown",
   "id": "efcf0f1f",
   "metadata": {},
   "source": [
    "## Eigenvector centrality"
   ]
  },
  {
   "cell_type": "markdown",
   "id": "5c6dd1f7",
   "metadata": {},
   "source": [
    "* Eine Person mit wenigen Verbindungen kann eine hohe Eigenvector Centrality haben, wenn diese Verbindungen sie mit sehr gut vernetzten anderen Personen verbindet.\n",
    "* Filtert Personen raus, die nicht nur gut verbunden sind, sondern auch mit anderen verbunden sind, die zentral liegen.\n",
    "\n",
    "- Finden der einflussreichsten Knoten (Weitergabe von Informationen)"
   ]
  },
  {
   "cell_type": "code",
   "execution_count": null,
   "id": "6e668eac",
   "metadata": {
    "scrolled": true
   },
   "outputs": [],
   "source": [
    "eigenvector_sorted = user_analysis.sort_values('eigenvector_centrality', ascending=False).reset_index(drop=True)\n",
    "eigenvector_sorted.head()"
   ]
  },
  {
   "cell_type": "markdown",
   "id": "f3d66222",
   "metadata": {},
   "source": [
    "### Die Hochschulen im Vergleich"
   ]
  },
  {
   "cell_type": "code",
   "execution_count": null,
   "id": "39a55e03",
   "metadata": {},
   "outputs": [],
   "source": [
    "hs_eigenvector_sorted = eigenvector_sorted[eigenvector_sorted['id'].isin(hs_ids)]\n",
    "hs_eigenvector_sorted = hs_eigenvector_sorted[['id', 'eigenvector_centrality', 'name', 'followers_count', 'friends_count']]\n",
    "ahf.create_additional_info_cols(hs_eigenvector_sorted, followings, hs_ids)"
   ]
  },
  {
   "cell_type": "code",
   "execution_count": null,
   "id": "49dd55c5",
   "metadata": {},
   "outputs": [],
   "source": [
    "hs_eigenvector_sorted"
   ]
  },
  {
   "cell_type": "markdown",
   "id": "05981d14",
   "metadata": {},
   "source": [
    "-> HSD steht im Vergleich zu anderen ganz gut da. Heißt nicht, dass der Account erfolgreicher ist, sondern nur, dass der Informationsfluss erfolgreicher sein könnte als bei anderen "
   ]
  },
  {
   "cell_type": "code",
   "execution_count": null,
   "id": "d403612c",
   "metadata": {},
   "outputs": [],
   "source": [
    "extract_eigenvector_sorted = eigenvector_sorted.iloc[:500].copy()\n",
    "extract_eigenvector_sorted = extract_eigenvector_sorted[['id', 'betweenness_centrality', 'name', 'followers_count', 'friends_count']]\n",
    "ahf.create_additional_info_cols(extract_eigenvector_sorted, followings, hs_ids)\n",
    "\n",
    "extract_eigenvector_sorted_copy = extract_eigenvector_sorted.copy()\n",
    "ahf.create_follower_friend_cols(extract_eigenvector_sorted_copy, followings, hs_ids)"
   ]
  },
  {
   "cell_type": "code",
   "execution_count": null,
   "id": "967388bb",
   "metadata": {},
   "outputs": [],
   "source": [
    "values = list(extract_eigenvector_sorted_copy[extract_eigenvector_sorted_copy['friend_of_rwth'] == True].loc[:426, ['follower_of_hsd', 'follower_of_rhein_waal', 'follower_of_niederrhein', 'follower_of_bochum', 'follower_of_koeln', 'follower_of_dortmund', 'follower_of_muenster', 'follower_of_rwth']].sum())\n",
    "ahf.create_bar_plot_for_hs(hochschulen, values, 'Anzahl der Follower', 'Anzahl der Follower der Hochschulen bis Platz 425 der Eigenvector Centrality', 0.1)"
   ]
  },
  {
   "cell_type": "code",
   "execution_count": null,
   "id": "522e2480",
   "metadata": {
    "scrolled": false
   },
   "outputs": [],
   "source": [
    "values = list(extract_eigenvector_sorted_copy[extract_eigenvector_sorted_copy['friend_of_rwth'] == True].loc[:426, ['friend_of_hsd', 'friend_of_rhein_waal', 'friend_of_niederrhein', 'friend_of_bochum', 'friend_of_koeln', 'friend_of_dortmund', 'friend_of_muenster', 'friend_of_rwth']].sum())\n",
    "ahf.create_bar_plot_for_hs(hochschulen, values, 'Anzahl der Friends', 'Anzahl der Friends der Hochschulen bis Platz 425 der Eigenvector Centrality', 0.1)"
   ]
  }
 ],
 "metadata": {
  "kernelspec": {
   "display_name": "Python 3 (ipykernel)",
   "language": "python",
   "name": "python3"
  },
  "language_info": {
   "codemirror_mode": {
    "name": "ipython",
    "version": 3
   },
   "file_extension": ".py",
   "mimetype": "text/x-python",
   "name": "python",
   "nbconvert_exporter": "python",
   "pygments_lexer": "ipython3",
   "version": "3.8.12"
  }
 },
 "nbformat": 4,
 "nbformat_minor": 5
}
