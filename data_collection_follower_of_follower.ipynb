{
 "cells": [
  {
   "cell_type": "markdown",
   "id": "f043ae4a",
   "metadata": {},
   "source": [
    "## Setup"
   ]
  },
  {
   "cell_type": "code",
   "execution_count": null,
   "id": "d1b5f81c",
   "metadata": {},
   "outputs": [],
   "source": [
    "import tweepy\n",
    "import pandas as pd\n",
    "import numpy as np"
   ]
  },
  {
   "cell_type": "code",
   "execution_count": null,
   "id": "501cabd4",
   "metadata": {},
   "outputs": [],
   "source": [
    "user_fields=[\"id\",\n",
    "\"id_str\",\n",
    "\"name\",\n",
    "\"screen_name\",\n",
    "\"location\",\n",
    "\"description\",\n",
    "\"url\",\n",
    "\"protected\",\n",
    "\"followers_count\",\n",
    "\"friends_count\",\n",
    "\"listed_count\",\n",
    "\"created_at\",\n",
    "\"favourites_count\",\n",
    "\"verified\",\n",
    "\"statuses_count\",\n",
    "\"has_extended_profile\",\n",
    "\"default_profile\",\n",
    "\"default_profile_image\",\n",
    "\"withheld_in_countries\",\n",
    "\"follower_of\"]"
   ]
  },
  {
   "cell_type": "markdown",
   "id": "c1ab659e",
   "metadata": {},
   "source": [
    "## Authentication"
   ]
  },
  {
   "cell_type": "code",
   "execution_count": null,
   "id": "936f2d60",
   "metadata": {},
   "outputs": [],
   "source": [
    "bearer_token = \"<enter-bearer-token>\"\n",
    "auth = tweepy.OAuth2BearerHandler(bearer_token)\n",
    "api = tweepy.API(auth, wait_on_rate_limit=True)"
   ]
  },
  {
   "cell_type": "markdown",
   "id": "fad90224",
   "metadata": {},
   "source": [
    "## Load data"
   ]
  },
  {
   "cell_type": "code",
   "execution_count": null,
   "id": "8d465757",
   "metadata": {},
   "outputs": [],
   "source": [
    "file_name = \"hsd.csv\"\n",
    "hs_df = pd.read_csv(file_name)"
   ]
  },
  {
   "cell_type": "markdown",
   "id": "63c604cf",
   "metadata": {},
   "source": [
    "## Get followers"
   ]
  },
  {
   "cell_type": "code",
   "execution_count": null,
   "id": "51d362b3",
   "metadata": {},
   "outputs": [],
   "source": [
    "start_user_index = 200\n",
    "end_user_index = 399"
   ]
  },
  {
   "cell_type": "code",
   "execution_count": null,
   "id": "6c8cb14c",
   "metadata": {},
   "outputs": [],
   "source": [
    "user_list = hs_df.iloc[start_user_index:end_user_index + 1, 1] # get userIds (column 1)\n",
    "\n",
    "follower_df = pd.DataFrame()\n",
    "\n",
    "for userID in user_list:\n",
    "    follower_list = []\n",
    "\n",
    "    try:\n",
    "        for page in tweepy.Cursor(api.get_followers, user_id=userID, count=200).pages():\n",
    "            follower_list.extend(page)\n",
    "        \n",
    "        follower_of_user_df = pd.DataFrame(data=[ follower._json for follower in follower_list])\n",
    "        follower_of_user_df['follower_of'] = userID\n",
    "        \n",
    "        follower_df = pd.concat([follower_df, follower_of_user_df])\n",
    "    \n",
    "    except tweepy.TweepyException:\n",
    "        print(userID)\n",
    "        print(\"error\")\n",
    "        continue"
   ]
  },
  {
   "cell_type": "markdown",
   "id": "50a2b265",
   "metadata": {},
   "source": [
    "## Save relevant data as csv"
   ]
  },
  {
   "cell_type": "code",
   "execution_count": null,
   "id": "0accfb49",
   "metadata": {},
   "outputs": [],
   "source": [
    "short_follower_df = follower_df[user_fields]\n",
    "short_follower_df = short_follower_df.astype({'id': np.int64, 'has_extended_profile': bool})\n",
    "short_follower_df.to_csv(\"hsd_follower_\" + str(start_user_index) + \"-\" + str(end_user_index) + \".csv\", index=False)"
   ]
  }
 ],
 "metadata": {
  "kernelspec": {
   "display_name": "Python 3 (ipykernel)",
   "language": "python",
   "name": "python3"
  },
  "language_info": {
   "codemirror_mode": {
    "name": "ipython",
    "version": 3
   },
   "file_extension": ".py",
   "mimetype": "text/x-python",
   "name": "python",
   "nbconvert_exporter": "python",
   "pygments_lexer": "ipython3",
   "version": "3.8.12"
  }
 },
 "nbformat": 4,
 "nbformat_minor": 5
}
