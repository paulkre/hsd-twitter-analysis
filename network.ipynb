{
 "cells": [
  {
   "cell_type": "code",
   "execution_count": 3,
   "metadata": {},
   "outputs": [
    {
     "name": "stdout",
     "output_type": "stream",
     "text": [
      "Requirement already satisfied: Pillow in d:\\anaconda\\envs\\twitter\\lib\\site-packages (9.1.1)\n"
     ]
    }
   ],
   "source": [
    "! pip install Pillow"
   ]
  },
  {
   "cell_type": "code",
   "execution_count": 9,
   "metadata": {},
   "outputs": [
    {
     "name": "stdout",
     "output_type": "stream",
     "text": [
      "fh_dortmund.csv\n",
      "fh_muenster.csv\n",
      "HochschuleBO.csv\n",
      "hsduesseldorf.csv\n",
      "HSNiederrhein.csv\n",
      "hsrheinwaal.csv\n",
      "RWTH.csv\n",
      "th_koeln.csv\n"
     ]
    }
   ],
   "source": [
    "import os\n",
    "import pandas as pd\n",
    "\n",
    "out_dir = \"data\"\n",
    "in_dir = \"{}/followers\".format(out_dir)\n",
    "dfs = []\n",
    "\n",
    "for dirent in os.listdir(in_dir):\n",
    "    path = os.path.join(in_dir, dirent)\n",
    "\n",
    "    if not os.path.isfile(path) or not dirent.endswith(\".csv\") or \"_lvl2\" in dirent or \"_friends\" in dirent:\n",
    "        continue\n",
    "\n",
    "    print(dirent)\n",
    "    dfs.append(pd.read_csv(path, lineterminator='\\n'))\n",
    "\n",
    "df_hochschul_friends = pd.read_csv(in_dir + \"/hochschulen_friends.csv\")\n",
    "df_hochschul_friends_reverse = df_hochschul_friends.rename(columns={\"id\": \"follower_of\", \"friend_of\": \"id\"})\n",
    "df = pd.concat(dfs)\n",
    "df = pd.concat([df, df_hochschul_friends_reverse])\n",
    "\n",
    "df[[\"id\", \"follower_of\"]].sort_values(\"id\", ascending=True).to_csv(\n",
    "    \"{}/direct_followings.csv\".format(out_dir),\n",
    "    index=False,\n",
    ")\n",
    "\n",
    "static_df = pd.read_csv(\"{}/static_users.csv\".format(out_dir))\n",
    "\n",
    "static_df['follower_of'] = static_df['id']\n",
    "\n",
    "df_hochschul_friends = df_hochschul_friends.rename(columns={\"friend_of\": \"follower_of\"})\n",
    "\n",
    "pd.concat([\n",
    "    static_df,\n",
    "    df,\n",
    "    df_hochschul_friends,\n",
    "]).drop_duplicates([\"id\"]).to_csv(\n",
    "    \"{}/direct_users.csv\".format(out_dir),\n",
    "    index=False,\n",
    ")\n"
   ]
  },
  {
   "cell_type": "code",
   "execution_count": 10,
   "metadata": {},
   "outputs": [
    {
     "name": "stderr",
     "output_type": "stream",
     "text": [
      "C:\\Users\\Lemjoe\\AppData\\Local\\Temp\\ipykernel_13644\\1517128318.py:6: DtypeWarning: Columns (7,13,15,16,17) have mixed types. Specify dtype option on import or set low_memory=False.\n",
      "  nodes = pd.read_csv('data/direct_users.csv')\n"
     ]
    }
   ],
   "source": [
    "import pandas as pd\n",
    "import networkx as nx\n",
    "import random\n",
    "import numpy as np\n",
    "\n",
    "nodes = pd.read_csv('data/direct_users.csv')\n",
    "edges = pd.read_csv('data/direct_followings.csv')\n",
    "\n",
    "nodes['community'] = ['#FFFFFF'] * len(nodes)\n",
    "hochschul_ids = [103823788, 84606793, 124155166, 265859722, 2776187059, 928008620, 11053712, 3063800235]\n",
    "nodes.loc[nodes['id'].isin(hochschul_ids),'community'] = [ '#%02x%02x%02x' % (random.randint(0,255), random.randint(0,255), random.randint(0,255)) for i in range(len(hochschul_ids))]\n",
    "\n",
    "nodes = nodes[nodes['id'].notna()]\n",
    "\n",
    "graph = nx.from_pandas_edgelist(edges, source='id', target='follower_of', create_using=nx.DiGraph())\n",
    "nx.is_directed(graph)\n",
    "node_attr = nodes.set_index('id').to_dict('index')\n",
    "nx.set_node_attributes(graph, node_attr)\n"
   ]
  },
  {
   "cell_type": "code",
   "execution_count": 11,
   "metadata": {},
   "outputs": [
    {
     "data": {
      "text/plain": [
       "array([ 2,  3,  4,  5,  6,  7,  8,  9, 10, 11, 12, 13, 15])"
      ]
     },
     "execution_count": 11,
     "metadata": {},
     "output_type": "execute_result"
    }
   ],
   "source": [
    "amount_of_degrees = np.array(sorted(list(set([degree for _, degree in graph.degree()]))))\n",
    "amount_of_degrees = amount_of_degrees[(amount_of_degrees < 20) & (amount_of_degrees > 1)]\n",
    "amount_of_degrees"
   ]
  },
  {
   "cell_type": "code",
   "execution_count": 12,
   "metadata": {},
   "outputs": [],
   "source": [
    "one_degree_nodes = []\n",
    "for ids in hochschul_ids:\n",
    "    out_nodes = [node for (node, val) in graph.out_degree() if (val == 1) and list(graph.out_edges(node))[0][1] == ids]\n",
    "    in_nodes = [node for (node, val) in graph.in_degree() if (val == 1) and list(graph.in_edges(node))[0][0] == ids]\n",
    "    one_degree_nodes = list(set(out_nodes + in_nodes))\n",
    "    updated_nodes = [ {node: {\"community\": graph.nodes[ids][\"community\"]}} for node in one_degree_nodes]\n",
    "    for update in updated_nodes:\n",
    "        nx.set_node_attributes(graph, update)"
   ]
  },
  {
   "cell_type": "code",
   "execution_count": 13,
   "metadata": {},
   "outputs": [],
   "source": [
    "def lerp(a, b, t):\n",
    "    return a*(1 - t) + b*t"
   ]
  },
  {
   "cell_type": "code",
   "execution_count": 14,
   "metadata": {},
   "outputs": [],
   "source": [
    "from PIL import ImageColor\n",
    "\n",
    "\n",
    "for degree in amount_of_degrees:\n",
    "    for out_degree, in_degree in zip(graph.out_degree(), graph.in_degree()):\n",
    "\n",
    "        if in_degree[1] == degree:\n",
    "            src = [src for src, _ in list(graph.in_edges(in_degree[0]))]\n",
    "            colors = [graph.nodes[id][\"community\"] for id in src]\n",
    "            mixed = graph.nodes[in_degree[0]][\"community\"]\n",
    "            mixed = np.array(list(ImageColor.getcolor(mixed, \"RGB\")))\n",
    "            for color in colors:\n",
    "                target = np.array(list(ImageColor.getcolor(color, \"RGB\")))\n",
    "                mixed = lerp(mixed, target, 0.25)\n",
    "\n",
    "            update = {in_degree[0]: {\"community\": '#%02x%02x%02x' % tuple(mixed.astype(int))}}\n",
    "            nx.set_node_attributes(graph, update)\n",
    "\n",
    "        if out_degree[1] == degree:\n",
    "            dest = [dest for _, dest in list(graph.out_edges(out_degree[0]))]\n",
    "            colors = [graph.nodes[id][\"community\"] for id in dest]\n",
    "            mixed = graph.nodes[out_degree[0]][\"community\"]\n",
    "            mixed = np.array(list(ImageColor.getcolor(mixed, \"RGB\")))\n",
    "            for color in colors:\n",
    "                target = np.array(list(ImageColor.getcolor(color, \"RGB\")))\n",
    "                mixed = lerp(mixed, target, 0.5)\n",
    "\n",
    "            update = {out_degree[0]: {\"community\": '#%02x%02x%02x' % tuple(mixed.astype(int))}}\n",
    "            nx.set_node_attributes(graph, update)\n",
    "                \n",
    "\n",
    "    "
   ]
  },
  {
   "cell_type": "code",
   "execution_count": 15,
   "metadata": {},
   "outputs": [],
   "source": [
    "for node in graph.nodes():\n",
    "    color = ImageColor.getcolor(graph.nodes[node][\"community\"], 'RGB')\n",
    "    update = {node: {\"viz\":{'color': {'r':color[0], 'g':color[1], 'b':color[2],'a':0}}}}\n",
    "    nx.set_node_attributes(graph, update)"
   ]
  },
  {
   "cell_type": "code",
   "execution_count": 16,
   "metadata": {},
   "outputs": [],
   "source": [
    "for edge in graph.edges():\n",
    "    color1 = graph.nodes[edge[0]][\"community\"]\n",
    "    color2 = graph.nodes[edge[1]][\"community\"]\n",
    "    color1 = ImageColor.getcolor(color1, \"RGB\")\n",
    "    color2 = ImageColor.getcolor(color2, \"RGB\")\n",
    "    edge_color = lerp(np.array(color1), np.array(color2), 0.5)\n",
    "    edge_color = edge_color.astype(int)\n",
    "    update = {edge: {\"viz\":{'color': {'r':edge_color[0], 'g':edge_color[1], 'b':edge_color[2],'a':0}}}}\n",
    "    nx.set_edge_attributes(graph, update)\n",
    "             \n",
    "\n"
   ]
  },
  {
   "cell_type": "code",
   "execution_count": 17,
   "metadata": {},
   "outputs": [],
   "source": [
    "#nx.write_graphml(graph, path=\"./level_alle_hochschulen.graphml\")\n",
    "nx.write_gexf(graph, path=\"./level_alle_hochschulen.gexf\")"
   ]
  },
  {
   "cell_type": "code",
   "execution_count": null,
   "metadata": {},
   "outputs": [],
   "source": []
  },
  {
   "cell_type": "code",
   "execution_count": null,
   "metadata": {},
   "outputs": [],
   "source": []
  }
 ],
 "metadata": {
  "kernelspec": {
   "display_name": "Python 3.9.12 ('twitter')",
   "language": "python",
   "name": "python3"
  },
  "language_info": {
   "codemirror_mode": {
    "name": "ipython",
    "version": 3
   },
   "file_extension": ".py",
   "mimetype": "text/x-python",
   "name": "python",
   "nbconvert_exporter": "python",
   "pygments_lexer": "ipython3",
   "version": "3.9.12"
  },
  "orig_nbformat": 4,
  "vscode": {
   "interpreter": {
    "hash": "43ea0a0cfa78f4790626d6043f27b7a837fc06300736f5f3feda3137e1e7a9d5"
   }
  }
 },
 "nbformat": 4,
 "nbformat_minor": 2
}
