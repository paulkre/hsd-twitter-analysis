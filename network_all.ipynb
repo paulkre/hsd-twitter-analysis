{
 "cells": [
  {
   "cell_type": "markdown",
   "metadata": {},
   "source": [
    "# Datenvorbereitung"
   ]
  },
  {
   "cell_type": "code",
   "execution_count": null,
   "metadata": {},
   "outputs": [],
   "source": [
    "import pandas as pd\n",
    "import networkx as nx\n",
    "import random\n",
    "import numpy as np\n",
    "import os\n",
    "\n",
    "out_dir = \"data\"\n",
    "in_dir = \"{}/followers\".format(out_dir)\n",
    "dfs = []\n",
    "\n",
    "for dirent in os.listdir(in_dir):\n",
    "    path = os.path.join(in_dir, dirent)\n",
    "\n",
    "    if not os.path.isfile(path) or not dirent.endswith(\".csv\") or \"_lvl2\" in dirent or \"_friends\" in dirent:\n",
    "        continue\n",
    "\n",
    "    print(dirent)\n",
    "    dfs.append(pd.read_csv(path, lineterminator='\\n'))\n",
    "\n",
    "df_hochschul_friends = pd.read_csv(in_dir + \"/hochschulen_friends.csv\")\n",
    "df_hochschul_friends_reverse = df_hochschul_friends.rename(columns={\"id\": \"follower_of\", \"friend_of\": \"id\"})\n",
    "df = pd.concat(dfs)\n",
    "df = pd.concat([df, df_hochschul_friends_reverse])\n",
    "\n",
    "df[[\"id\", \"follower_of\"]].sort_values(\"id\", ascending=True).to_csv(\n",
    "    \"{}/direct_followings.csv\".format(out_dir),\n",
    "    index=False,\n",
    ")\n",
    "\n",
    "static_df = pd.read_csv(\"{}/static_users.csv\".format(out_dir))\n",
    "\n",
    "static_df['follower_of'] = static_df['id']\n",
    "\n",
    "df_hochschul_friends = df_hochschul_friends.rename(columns={\"friend_of\": \"follower_of\"})\n",
    "\n",
    "pd.concat([\n",
    "    static_df,\n",
    "    df,\n",
    "    df_hochschul_friends,\n",
    "]).drop_duplicates([\"id\"]).to_csv(\n",
    "    \"{}/direct_users.csv\".format(out_dir),\n",
    "    index=False,\n",
    ")\n",
    "\n",
    "hsduesseldorf_lvl2 = pd.read_csv('data/followers/hsduesseldorf_lvl2.csv')\n",
    "\n",
    "hsduesseldorf_lvl2[[\"id\", \"follower_of\"]].sort_values(\"id\", ascending=True).to_csv(\n",
    "    \"{}/followings_lvl2.csv\".format(out_dir),\n",
    "    index=False,\n",
    ")\n",
    "\n",
    "hsduesseldorf_lvl2.drop_duplicates([\"id\"]).to_csv(\n",
    "    \"{}/users_lvl2.csv\".format(out_dir),\n",
    "    index=False,\n",
    ")"
   ]
  },
  {
   "cell_type": "code",
   "execution_count": 27,
   "metadata": {},
   "outputs": [
    {
     "name": "stderr",
     "output_type": "stream",
     "text": [
      "C:\\Users\\Lemjoe\\AppData\\Local\\Temp\\ipykernel_12388\\1585940841.py:6: DtypeWarning: Columns (18) have mixed types. Specify dtype option on import or set low_memory=False.\n",
      "  lvl2_users_hsd = pd.read_csv('data/users_lvl2.csv')\n",
      "C:\\Users\\Lemjoe\\AppData\\Local\\Temp\\ipykernel_12388\\1585940841.py:8: DtypeWarning: Columns (7,13,15,16,17) have mixed types. Specify dtype option on import or set low_memory=False.\n",
      "  nodes = pd.read_csv('data/direct_users.csv')\n"
     ]
    }
   ],
   "source": [
    "import pandas as pd\n",
    "import networkx as nx\n",
    "import random\n",
    "import numpy as np\n",
    "\n",
    "lvl2_users_hsd = pd.read_csv('data/users_lvl2.csv')\n",
    "lvl2_edges_hsd = pd.read_csv('data/followings_lvl2.csv')\n",
    "nodes = pd.read_csv('data/direct_users.csv')\n",
    "edges = pd.read_csv('data/direct_followings.csv')\n",
    "nodes = pd.concat([nodes, lvl2_users_hsd]).drop_duplicates([\"id\"])\n",
    "edges = pd.concat([edges, lvl2_edges_hsd])\n",
    "\n",
    "nodes['viz'] = [{'color':{'r':255, 'g':255, 'b':255, 'a':1}}] * len(nodes)\n",
    "nodes['gender'] = [\"unknown\"] * len(nodes)\n",
    "hochschul_ids = [103823788, 84606793, 124155166, 265859722, 2776187059, 928008620, 11053712, 3063800235]\n",
    "\n",
    "nodes = nodes[nodes['id'].notna()]"
   ]
  },
  {
   "cell_type": "code",
   "execution_count": 28,
   "metadata": {},
   "outputs": [],
   "source": [
    "nodes = nodes.drop(columns=['withheld_in_countries','url','follower_of', 'created_at', 'has_extended_profile','default_profile','default_profile_image'])\n",
    "nodes = nodes.astype({'description': 'string', 'screen_name': 'string'})"
   ]
  },
  {
   "cell_type": "code",
   "execution_count": 29,
   "metadata": {},
   "outputs": [
    {
     "name": "stdout",
     "output_type": "stream",
     "text": [
      "6470\n",
      "3966\n"
     ]
    }
   ],
   "source": [
    "import re\n",
    "\n",
    "females = []\n",
    "male = []\n",
    "for index, row in nodes.iterrows():\n",
    "    \n",
    "    if pd.notnull(row['description']):\n",
    "        isFemale = re.search(r'\\bshe/her\\b|\\bSie/Ihr\\b', row['description'])\n",
    "        if isFemale != None:\n",
    "            females.append(row['id'])\n",
    "        isMale = re.search(r'\\bhe/him\\b|\\bEr/Ihn\\b', row['description'])\n",
    "        if isMale != None:\n",
    "            male.append(row['id'])\n",
    "\n",
    "print(len(females))\n",
    "print(len(male))\n"
   ]
  },
  {
   "cell_type": "code",
   "execution_count": 30,
   "metadata": {},
   "outputs": [],
   "source": [
    "nodes.loc[nodes['id'].isin(females),('gender')] = 'female'\n",
    "nodes.loc[nodes['id'].isin(male), ('gender') ]= 'male'"
   ]
  },
  {
   "cell_type": "code",
   "execution_count": 31,
   "metadata": {},
   "outputs": [
    {
     "name": "stderr",
     "output_type": "stream",
     "text": [
      "C:\\Users\\Lemjoe\\AppData\\Local\\Temp\\ipykernel_12388\\1549860975.py:2: FutureWarning: The default value of regex will change from True to False in a future version.\n",
      "  nodes['name'] =nodes['name'].str.replace(r'\\x08|\\x1f|\\x1e', '')\n",
      "C:\\Users\\Lemjoe\\AppData\\Local\\Temp\\ipykernel_12388\\1549860975.py:3: FutureWarning: The default value of regex will change from True to False in a future version.\n",
      "  nodes['location'] =nodes['location'].str.replace(r'\\x08|\\x1f|\\x1e', '')\n"
     ]
    }
   ],
   "source": [
    "nodes = nodes.drop(columns=['description'])\n",
    "nodes['name'] =nodes['name'].str.replace(r'\\x08|\\x1f|\\x1e', '')\n",
    "nodes['location'] =nodes['location'].str.replace(r'\\x08|\\x1f|\\x1e', '')"
   ]
  },
  {
   "cell_type": "code",
   "execution_count": 32,
   "metadata": {},
   "outputs": [],
   "source": [
    "random.seed(10)\n",
    "\n",
    "def get_random_Color_hex():\n",
    "    return {'r' : random.randint(0,255),'g' : random.randint(0,255), 'b' : random.randint(0,255), 'a':1}\n",
    "\n",
    "def lerp(a, b, t):\n",
    "    return a*(1 - t) + b*t"
   ]
  },
  {
   "cell_type": "markdown",
   "metadata": {},
   "source": [
    "# Louvain"
   ]
  },
  {
   "cell_type": "code",
   "execution_count": null,
   "metadata": {},
   "outputs": [],
   "source": [
    "graph = nx.from_pandas_edgelist(edges, source='id', target='follower_of', create_using=nx.Graph())\n",
    "\n",
    "node_attr = nodes.set_index('id').to_dict('index')\n",
    "nx.set_node_attributes(graph, node_attr)"
   ]
  },
  {
   "cell_type": "code",
   "execution_count": 8,
   "metadata": {},
   "outputs": [
    {
     "data": {
      "text/plain": [
       "69"
      ]
     },
     "execution_count": 8,
     "metadata": {},
     "output_type": "execute_result"
    }
   ],
   "source": [
    "import networkx.algorithms.community as nx_comm\n",
    "\n",
    "communities = nx_comm.louvain_communities(graph, seed=123)\n",
    "len(communities)"
   ]
  },
  {
   "cell_type": "code",
   "execution_count": 9,
   "metadata": {},
   "outputs": [],
   "source": [
    "for community in communities:\n",
    "    color = get_random_Color_hex()\n",
    "    for id in list(community):\n",
    "        update = {id: {\"viz\": {'color':color}}}\n",
    "        nx.set_node_attributes(graph, update)"
   ]
  },
  {
   "cell_type": "code",
   "execution_count": 10,
   "metadata": {},
   "outputs": [],
   "source": [
    "for edge in graph.edges():\n",
    "    color1 = graph.nodes[edge[0]][\"viz\"]['color']\n",
    "    color2 = graph.nodes[edge[1]][\"viz\"]['color']\n",
    "    color1 = np.array([color1['r'], color1['g'], color1['b']])\n",
    "    color2 = np.array([color2['r'], color2['g'], color2['b']])\n",
    "    edge_color = lerp(np.array(color1), np.array(color2), 0.5)\n",
    "    edge_color = edge_color.astype(int)\n",
    "    update = {edge: {\"viz\":{'color': {'r':edge_color[0], 'g':edge_color[1], 'b':edge_color[2],'a':1}}}}\n",
    "    nx.set_edge_attributes(graph, update)"
   ]
  },
  {
   "cell_type": "code",
   "execution_count": 11,
   "metadata": {},
   "outputs": [],
   "source": [
    "nx.write_gexf(graph, path=\"./komplette_twitter_daten_louvain_zuteilung.gexf\")"
   ]
  },
  {
   "cell_type": "markdown",
   "metadata": {},
   "source": [
    "# Gerichteten Graph mit Knoten Färbung"
   ]
  },
  {
   "cell_type": "code",
   "execution_count": 11,
   "metadata": {},
   "outputs": [],
   "source": [
    "graph = nx.from_pandas_edgelist(edges, source='id', target='follower_of', create_using=nx.DiGraph())\n",
    "\n",
    "node_attr = nodes.set_index('id').to_dict('index')\n",
    "nx.set_node_attributes(graph, node_attr)"
   ]
  },
  {
   "cell_type": "code",
   "execution_count": 12,
   "metadata": {},
   "outputs": [],
   "source": [
    "amount_of_degrees = np.array(sorted(list(set([degree for _, degree in graph.degree()]))))\n",
    "amount_of_degrees_small_nodes = amount_of_degrees[(amount_of_degrees < 100) & (amount_of_degrees > 1)]\n",
    "amount_of_degrees_large_nodes =  amount_of_degrees[amount_of_degrees >= 100]"
   ]
  },
  {
   "cell_type": "code",
   "execution_count": 13,
   "metadata": {},
   "outputs": [],
   "source": [
    "large_community_ids = []"
   ]
  },
  {
   "cell_type": "code",
   "execution_count": 14,
   "metadata": {},
   "outputs": [],
   "source": [
    "for node, degree in graph.degree():\n",
    "    if degree >= 100:\n",
    "        update = {node: {\"viz\": {'color':get_random_Color_hex()}}}\n",
    "        nx.set_node_attributes(graph, update)\n",
    "        large_community_ids.append(node)"
   ]
  },
  {
   "cell_type": "code",
   "execution_count": 15,
   "metadata": {},
   "outputs": [],
   "source": [
    "out_nodes_all = [node for (node, val) in graph.out_degree() if val == 1]\n",
    "in_nodes_all = [node for (node, val) in graph.in_degree() if val == 1]\n",
    "out_edges_all = np.array([[src, dest] for node in out_nodes_all for src, dest in list(graph.out_edges(node))])\n",
    "in_edges_all = np.array([[src, dest] for node in in_nodes_all for src, dest in list(graph.in_edges(node))])\n"
   ]
  },
  {
   "cell_type": "code",
   "execution_count": 16,
   "metadata": {},
   "outputs": [],
   "source": [
    "for ids in large_community_ids:\n",
    "    out_nodes = out_edges_all[out_edges_all[:, 1]== ids]\n",
    "    in_nodes = in_edges_all[in_edges_all[:, 0] == ids]\n",
    "\n",
    "    one_degree_nodes = np.concatenate([out_nodes[:, 0], in_nodes[:, 1]])\n",
    "    updated_nodes = [ {node: {\"viz\": {'color':graph.nodes[ids][\"viz\"]['color']}}} for node in one_degree_nodes]\n",
    "    for update in updated_nodes:\n",
    "        nx.set_node_attributes(graph, update)\n"
   ]
  },
  {
   "cell_type": "code",
   "execution_count": 17,
   "metadata": {},
   "outputs": [],
   "source": [
    "for degree in amount_of_degrees_small_nodes:\n",
    "    for out_degree, in_degree in zip(graph.out_degree(), graph.in_degree()):\n",
    "\n",
    "        if in_degree[1] == degree:\n",
    "            src = [src for src, _ in list(graph.in_edges(in_degree[0]))]\n",
    "            colors = [graph.nodes[id][\"viz\"]['color'] for id in src]\n",
    "            mixed = graph.nodes[in_degree[0]][\"viz\"]['color']\n",
    "            mixed = np.array([mixed['r'], mixed['g'], mixed['b']])\n",
    "            for color in colors:\n",
    "                target = np.array([color['r'], color['g'], color['b']])\n",
    "                mixed = lerp(mixed, target, 0.25)\n",
    "            mixed = mixed.astype(int)\n",
    "            update = {in_degree[0]: {\"viz\": {'color': {'r':mixed[0], 'g':mixed[1], 'b':mixed[2], 'a':1}}}}\n",
    "            nx.set_node_attributes(graph, update)\n",
    "\n",
    "        if out_degree[1] == degree:\n",
    "            dest = [dest for _, dest in list(graph.out_edges(out_degree[0]))]\n",
    "            colors = [graph.nodes[id][\"viz\"]['color'] for id in dest]\n",
    "            mixed = graph.nodes[out_degree[0]][\"viz\"]['color']\n",
    "            mixed = np.array([mixed['r'], mixed['g'], mixed['b']])\n",
    "            for color in colors:\n",
    "                target = np.array([color['r'], color['g'], color['b']])\n",
    "                mixed = lerp(mixed, target, 0.5)\n",
    "            mixed = mixed.astype(int)\n",
    "            update = {out_degree[0]: {\"viz\": {'color': {'r':mixed[0], 'g':mixed[1], 'b':mixed[2], 'a':1}}}}\n",
    "            nx.set_node_attributes(graph, update)\n",
    "                "
   ]
  },
  {
   "cell_type": "code",
   "execution_count": null,
   "metadata": {},
   "outputs": [],
   "source": [
    "for edge in graph.edges():\n",
    "    color1 = graph.nodes[edge[0]][\"viz\"]['color']\n",
    "    color2 = graph.nodes[edge[1]][\"viz\"]['color']\n",
    "    color1 = np.array([color1['r'], color1['g'], color1['b']])\n",
    "    color2 = np.array([color2['r'], color2['g'], color2['b']])\n",
    "    edge_color = lerp(np.array(color1), np.array(color2), 0.5)\n",
    "    edge_color = edge_color.astype(int)\n",
    "    update = {edge: {\"viz\":{'color': {'r':edge_color[0], 'g':edge_color[1], 'b':edge_color[2],'a':1}}}}\n",
    "    nx.set_edge_attributes(graph, update)"
   ]
  },
  {
   "cell_type": "code",
   "execution_count": null,
   "metadata": {},
   "outputs": [],
   "source": [
    "nx.write_gexf(graph, path=\"./komplette_twitter_daten.gexf\")"
   ]
  },
  {
   "cell_type": "markdown",
   "metadata": {},
   "source": [
    "# Nodes entfernen"
   ]
  },
  {
   "cell_type": "code",
   "execution_count": 33,
   "metadata": {},
   "outputs": [],
   "source": [
    "graph = nx.from_pandas_edgelist(edges, source='id', target='follower_of', create_using=nx.DiGraph())\n",
    "\n",
    "node_attr = nodes.set_index('id').to_dict('index')\n",
    "nx.set_node_attributes(graph, node_attr)"
   ]
  },
  {
   "cell_type": "code",
   "execution_count": 34,
   "metadata": {},
   "outputs": [
    {
     "name": "stdout",
     "output_type": "stream",
     "text": [
      "879762\n"
     ]
    }
   ],
   "source": [
    "out_degree_nodes = [node for (node, val) in graph.out_degree() if val == 1 and graph.in_degree(node) == 0]\n",
    "edges_one_degree = edges[edges['id'].isin(out_degree_nodes)]\n",
    "edges_one_degree = edges_one_degree.sort_values(\"follower_of\", ascending=True)\n",
    "print(len(out_degree_nodes))\n",
    "master_nodes = edges_one_degree.follower_of.unique()"
   ]
  },
  {
   "cell_type": "code",
   "execution_count": 35,
   "metadata": {},
   "outputs": [],
   "source": [
    "nodes_id_to_unify = []\n",
    "for node in master_nodes:\n",
    "    nodes_id_to_unify.append(edges_one_degree[edges_one_degree['follower_of'] == node]['id'].values.tolist()) \n",
    "nodes['number_of_nodes'] = 1"
   ]
  },
  {
   "cell_type": "code",
   "execution_count": 36,
   "metadata": {},
   "outputs": [],
   "source": [
    "nodes_copy = nodes.copy(deep=False)\n",
    "edges_copy = edges.copy(deep=False)"
   ]
  },
  {
   "cell_type": "code",
   "execution_count": 37,
   "metadata": {},
   "outputs": [],
   "source": [
    "unified_node_id = -1\n",
    "for list_of_nodes,master_node in zip(nodes_id_to_unify, master_nodes):\n",
    "    \n",
    "    new_node = pd.DataFrame({\n",
    "        'id':unified_node_id,\n",
    "        'id_str':''            ,  \n",
    "        'name':'follower_of_'+str(master_node), \n",
    "        'screen_name': 'follower_of_'+nodes[nodes['id']==master_node]['screen_name'].values[0], \n",
    "        'location':'', \n",
    "        'protected':'False', \n",
    "        'followers_count':0,\n",
    "        'friends_count':0,\n",
    "        'listed_count':0,\n",
    "        'favourites_count':0,\n",
    "        'verified':'False', \n",
    "        'statuses_count':0,\n",
    "        'viz':{'color':nodes[nodes['id']==master_node]['viz'].values[0]}, \n",
    "        'gender':'unknown', \n",
    "        'number_of_nodes': len(list_of_nodes) })\n",
    "    nodes_copy = pd.concat([nodes_copy,new_node], ignore_index=True)\n",
    "    new_edge = pd.DataFrame({\n",
    "        'id':[unified_node_id],\n",
    "        'follower_of': [master_node] })\n",
    "    edges_copy = pd.concat([edges_copy,new_edge], ignore_index=True)\n",
    "    unified_node_id -= 1\n",
    "\n"
   ]
  },
  {
   "cell_type": "code",
   "execution_count": 38,
   "metadata": {},
   "outputs": [],
   "source": [
    "flatten_node_to_remove = [node for list_of_nodes in nodes_id_to_unify for node in list_of_nodes]\n",
    "nodes_copy = nodes_copy[~nodes_copy['id'].isin(flatten_node_to_remove)]\n",
    "edges_copy = edges_copy[~edges_copy['id'].isin(flatten_node_to_remove)]\n",
    "\n",
    "nodes_copy = nodes_copy.astype({'screen_name': 'string', 'id_str': 'string'})"
   ]
  },
  {
   "cell_type": "code",
   "execution_count": 39,
   "metadata": {},
   "outputs": [
    {
     "name": "stdout",
     "output_type": "stream",
     "text": [
      "1097880\n",
      "1752555\n",
      "219608\n",
      "867543\n"
     ]
    }
   ],
   "source": [
    "print(len(nodes))\n",
    "print(len(edges))\n",
    "print(len(nodes_copy))\n",
    "print(len(edges_copy))"
   ]
  },
  {
   "cell_type": "code",
   "execution_count": 40,
   "metadata": {},
   "outputs": [],
   "source": [
    "graph = nx.from_pandas_edgelist(edges_copy, source='id', target='follower_of', create_using=nx.DiGraph())\n",
    "\n",
    "node_attr = nodes_copy.set_index('id').to_dict('index')\n",
    "nx.set_node_attributes(graph, node_attr)"
   ]
  },
  {
   "cell_type": "code",
   "execution_count": 41,
   "metadata": {},
   "outputs": [],
   "source": [
    "for node, degree in graph.degree():\n",
    "    if degree >= 100:\n",
    "        update = {node: {\"viz\": {'color':get_random_Color_hex()}}}\n",
    "        nx.set_node_attributes(graph, update)\n",
    "        large_community_ids.append(node)"
   ]
  },
  {
   "cell_type": "code",
   "execution_count": 42,
   "metadata": {},
   "outputs": [],
   "source": [
    "amount_of_degrees = np.array(sorted(list(set([degree for _, degree in graph.degree()]))))\n",
    "amount_of_degrees_small_nodes = amount_of_degrees[(amount_of_degrees < 100) & (amount_of_degrees > 1)]\n",
    "amount_of_degrees_large_nodes =  amount_of_degrees[amount_of_degrees >= 100]"
   ]
  },
  {
   "cell_type": "code",
   "execution_count": 43,
   "metadata": {},
   "outputs": [],
   "source": [
    "out_nodes_all = [node for (node, val) in graph.out_degree() if val == 1]\n",
    "in_nodes_all = [node for (node, val) in graph.in_degree() if val == 1]\n",
    "out_edges_all = np.array([[src, dest] for node in out_nodes_all for src, dest in list(graph.out_edges(node))])\n",
    "in_edges_all = np.array([[src, dest] for node in in_nodes_all for src, dest in list(graph.in_edges(node))])"
   ]
  },
  {
   "cell_type": "code",
   "execution_count": 44,
   "metadata": {},
   "outputs": [],
   "source": [
    "large_community_ids = []\n",
    "for ids in large_community_ids:\n",
    "    out_nodes = out_edges_all[out_edges_all[:, 1]== ids]\n",
    "    in_nodes = in_edges_all[in_edges_all[:, 0] == ids]\n",
    "\n",
    "    one_degree_nodes = np.concatenate([out_nodes[:, 0], in_nodes[:, 1]])\n",
    "    updated_nodes = [ {node: {\"viz\": {'color':graph.nodes[ids][\"viz\"]['color']}}} for node in one_degree_nodes]\n",
    "    for update in updated_nodes:\n",
    "        nx.set_node_attributes(graph, update)"
   ]
  },
  {
   "cell_type": "code",
   "execution_count": 45,
   "metadata": {},
   "outputs": [],
   "source": [
    "for degree in amount_of_degrees_small_nodes:\n",
    "    for out_degree, in_degree in zip(graph.out_degree(), graph.in_degree()):\n",
    "\n",
    "        if in_degree[1] == degree:\n",
    "            src = [src for src, _ in list(graph.in_edges(in_degree[0]))]\n",
    "            colors = [graph.nodes[id][\"viz\"]['color'] for id in src]\n",
    "            mixed = graph.nodes[in_degree[0]][\"viz\"]['color']\n",
    "            mixed = np.array([mixed['r'], mixed['g'], mixed['b']])\n",
    "            for color in colors:\n",
    "                target = np.array([color['r'], color['g'], color['b']])\n",
    "                mixed = lerp(mixed, target, 0.25)\n",
    "            mixed = mixed.astype(int)\n",
    "            update = {in_degree[0]: {\"viz\": {'color': {'r':mixed[0], 'g':mixed[1], 'b':mixed[2], 'a':1}}}}\n",
    "            nx.set_node_attributes(graph, update)\n",
    "\n",
    "        if out_degree[1] == degree:\n",
    "            dest = [dest for _, dest in list(graph.out_edges(out_degree[0]))]\n",
    "            colors = [graph.nodes[id][\"viz\"]['color'] for id in dest]\n",
    "            mixed = graph.nodes[out_degree[0]][\"viz\"]['color']\n",
    "            mixed = np.array([mixed['r'], mixed['g'], mixed['b']])\n",
    "            for color in colors:\n",
    "                target = np.array([color['r'], color['g'], color['b']])\n",
    "                mixed = lerp(mixed, target, 0.5)\n",
    "            mixed = mixed.astype(int)\n",
    "            update = {out_degree[0]: {\"viz\": {'color': {'r':mixed[0], 'g':mixed[1], 'b':mixed[2], 'a':1}}}}\n",
    "            nx.set_node_attributes(graph, update)\n",
    "                "
   ]
  },
  {
   "cell_type": "code",
   "execution_count": 46,
   "metadata": {},
   "outputs": [],
   "source": [
    "for edge in graph.edges():\n",
    "    color1 = graph.nodes[edge[0]][\"viz\"]['color']\n",
    "    color2 = graph.nodes[edge[1]][\"viz\"]['color']\n",
    "    color1 = np.array([color1['r'], color1['g'], color1['b']])\n",
    "    color2 = np.array([color2['r'], color2['g'], color2['b']])\n",
    "    edge_color = lerp(np.array(color1), np.array(color2), 0.5)\n",
    "    edge_color = edge_color.astype(int)\n",
    "    update = {edge: {\"viz\":{'color': {'r':edge_color[0], 'g':edge_color[1], 'b':edge_color[2],'a':1}}}}\n",
    "    nx.set_edge_attributes(graph, update)"
   ]
  },
  {
   "cell_type": "code",
   "execution_count": 47,
   "metadata": {},
   "outputs": [],
   "source": [
    "nx.write_gexf(graph, path=\"./komplette_twitter_daten_vereinfacht2.gexf\")"
   ]
  }
 ],
 "metadata": {
  "kernelspec": {
   "display_name": "Python 3.9.12 ('twitter')",
   "language": "python",
   "name": "python3"
  },
  "language_info": {
   "codemirror_mode": {
    "name": "ipython",
    "version": 3
   },
   "file_extension": ".py",
   "mimetype": "text/x-python",
   "name": "python",
   "nbconvert_exporter": "python",
   "pygments_lexer": "ipython3",
   "version": "3.9.12"
  },
  "orig_nbformat": 4,
  "vscode": {
   "interpreter": {
    "hash": "43ea0a0cfa78f4790626d6043f27b7a837fc06300736f5f3feda3137e1e7a9d5"
   }
  }
 },
 "nbformat": 4,
 "nbformat_minor": 2
}
