{
 "cells": [
  {
   "cell_type": "markdown",
   "metadata": {},
   "source": [
    "# Data Retrieval\n",
    "\n",
    "The purpose of this notebook is to retrieve relevant data from the Twitter API."
   ]
  },
  {
   "cell_type": "markdown",
   "metadata": {},
   "source": [
    "## Import Dependencies"
   ]
  },
  {
   "cell_type": "code",
   "execution_count": 31,
   "metadata": {},
   "outputs": [],
   "source": [
    "import os\n",
    "import json\n",
    "import tweepy\n",
    "from dotenv import load_dotenv\n",
    "load_dotenv();"
   ]
  },
  {
   "cell_type": "markdown",
   "metadata": {},
   "source": [
    "## Authentication"
   ]
  },
  {
   "cell_type": "code",
   "execution_count": 28,
   "metadata": {},
   "outputs": [],
   "source": [
    "auth = tweepy.OAuth1UserHandler(\n",
    "   os.getenv(\"TWITTER_CONSUMER_KEY\"),\n",
    "   os.getenv(\"TWITTER_CONSUMER_SECRET\"),\n",
    "   os.getenv(\"TWITTER_ACCESS_KEY\"),\n",
    "   os.getenv(\"TWITTER_ACCESS_SECRET\"),\n",
    ")\n",
    "\n",
    "api = tweepy.API(auth)"
   ]
  },
  {
   "cell_type": "code",
   "execution_count": 34,
   "metadata": {},
   "outputs": [
    {
     "name": "stdout",
     "output_type": "stream",
     "text": [
      "#HSDjobs: An der HSD ist im Fachbereich Elektro- und Informationstechnik zum nächstmöglichen Zeitpunkt eine W2-#Professur mit dem Lehr- und Forschungsgebiet #Informationsverarbeitung, #Signale und #Systeme zu besetzen. Online-Bewerbung unter https://t.co/6jYFvvvHJi https://t.co/g2gbp0m0LP\n",
      "#HSDjobs: An der HSD ist im Fachbereich Elektro- und Informationstechnik zum nächstmöglichen Zeitpunkt eine W2-#Professur mit dem Lehr- und Forschungsgebiet #Mikroelektronik/#Mikrosystemtechnik insb. #Sensorik/#Aktorik zu besetzen. Online-Bewerbung unter https://t.co/k3JhPQXnlK https://t.co/ZAaeosTdXH\n",
      "#HSD50Jahre: Am 14. Mai 2022 konnte die HSD ihren 50. Geburtstag endlich nachholen. Den ganzen Tag über und bis weit in die Nacht hinein besuchten mehrere Tausend Interessierte den HSD-Campus und feierten bei ausgelassener Stimmung und wunderbarem Wetter. https://t.co/N60zgclPkY https://t.co/Hct7wMdjdq\n",
      "#HSDlehrt: ​Seit März 2022 ist Bettina Dunker wissenschaftliche Mitarbeiterin im Department Photographie am Fachbereich Design der Hochschule Düsseldorf. ❤️-lich willkommen! https://t.co/gk1Gbl5mHr https://t.co/7Co3XcJnpb\n",
      "RT @ZDD_duesseldorf: 50 Jahre @hsduesseldorf. \n",
      "Guter Grund zum Feiern!\n",
      "\n",
      "#campus #sonne #feiern https://t.co/lBOcdhXKQK\n",
      "#HSD50Jahre: Auch unsere Designer*innen laden zum Campusfest am 14. Mai. Die künstlerisch-gestalterische Ausbildung an der Hochschule Düsseldorf ist in ständiger Bewegung und dabei stets am Puls der Zeit – seit mehr als 50 Jahren! #unglaublichwichtig #50JahreHAWs https://t.co/Rs9g9iVgTU\n",
      "#HSDjobs: An der HSD ist im Fachbereich Elektro- und Informationstechnik zum nächstmöglichen Zeitpunkt eine W2-#Professur mit dem Lehr- und Forschungsgebiet #Mathematik für Ingenieure zu besetzen. Wir freuen uns über Ihre Online-Bewerbung unter https://t.co/jXl7LMNdKn https://t.co/zCWF6LHTQa\n",
      "RT @CAISnrw: In seinem Vortrag wird @drbieber morgen an der @hsduesseldorf einen Überblick zur CAIS-Inkubatorstudie zu #KIGovernance und ei…\n",
      "#HSD50Jahre: Zum Campusfest am 14. Mai laden auch die Fachschaften Elektro- und Informationstechnik &amp; Maschinenbau und Verfahrenstechnik ein. Erleben Sie die Möglichkeiten des 3D-Drucks oder beweisen Sie sich beim Tischkicker-Turnier. #unglaublichwichtig #50JahreHAWs https://t.co/RJr684nsKX\n",
      "#HSDinfo: Achten Sie beim Kauf von Farben auf Umwelt- und Gesundheitsverträglichkeit. Emissionsarme Farben sind mit dem Blauen Engel ausgezeichnet und daher unter anderem arm an Lösemitteln und Formaldehyd. #Nachhaltigkeit #Umweltschutz #Naturschutz https://t.co/3yZUtU1HzT\n"
     ]
    }
   ],
   "source": [
    "public_tweets = api.user_timeline(\n",
    "    screen_name=\"hsduesseldorf\",\n",
    "    count=10,\n",
    "    tweet_mode=\"extended\",\n",
    ")\n",
    "for tweet in public_tweets:\n",
    "    print(tweet.full_text)"
   ]
  }
 ],
 "metadata": {
  "interpreter": {
   "hash": "b0fa6594d8f4cbf19f97940f81e996739fb7646882a419484c72d19e05852a7e"
  },
  "kernelspec": {
   "display_name": "Python 3.9.7 64-bit",
   "language": "python",
   "name": "python3"
  },
  "language_info": {
   "codemirror_mode": {
    "name": "ipython",
    "version": 3
   },
   "file_extension": ".py",
   "mimetype": "text/x-python",
   "name": "python",
   "nbconvert_exporter": "python",
   "pygments_lexer": "ipython3",
   "version": "3.9.12"
  },
  "orig_nbformat": 4
 },
 "nbformat": 4,
 "nbformat_minor": 2
}
